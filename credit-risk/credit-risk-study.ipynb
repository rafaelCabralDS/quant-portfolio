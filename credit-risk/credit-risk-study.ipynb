{
 "cells": [
  {
   "cell_type": "markdown",
   "metadata": {},
   "source": [
    "# Loans Credit Risk Study\n",
    "\n",
    "This notebook analyzes a loans dataset, covering data cleaning, feature engineering, visualization, and portfolio analysis.  \n",
    "Metrics like Expected Loss, Loss Given Default, and others are calculated for the portfolio."
   ]
  },
  {
   "cell_type": "markdown",
   "metadata": {},
   "source": [
    "## 1. Setup\n",
    "\n",
    "### 1.1 Imports"
   ]
  },
  {
   "cell_type": "code",
   "execution_count": null,
   "metadata": {},
   "outputs": [],
   "source": [
    "import pandas as pd\n",
    "import numpy as np\n",
    "import plotly.graph_objects as go\n",
    "from plotly.subplots import make_subplots\n",
    "import plotly.express as px\n",
    "from scipy.stats import gaussian_kde\n",
    "import plotly.io as pio\n",
    "import os\n",
    "os.makedirs('images', exist_ok=True)"
   ]
  },
  {
   "cell_type": "markdown",
   "metadata": {},
   "source": [
    "### 1.2 Default style"
   ]
  },
  {
   "cell_type": "code",
   "execution_count": null,
   "metadata": {},
   "outputs": [],
   "source": [
    "pd.set_option('display.max_columns', None)\n",
    "\n",
    "pallete = ['rgb(42,72,108)', 'rgb(45, 105, 165)', 'rgb(77,136,180)', 'rgb(123, 188, 221)', 'rgb(193, 211, 217)']\n",
    "\n",
    "base_template = pio.templates['plotly_white']\n",
    "plotly_template = base_template.layout.update(\n",
    "    title=dict(font=dict(family='Arial Black', size=14, color=pallete[0])),\n",
    "    xaxis=dict(\n",
    "        tickfont=dict(size=9, family='Arial Black, monospace', color=pallete[0]),\n",
    "        title_font=dict(size=11, family='Arial Black, monospace', color=pallete[0])),\n",
    "    yaxis=dict(title_font=dict(size=11, family='Arial Black, monospace', color=pallete[0]), range=[0, 1]),\n",
    "    plot_bgcolor='rgb(243,250,253)',\n",
    "    colorway=px.colors.sequential.ice,\n",
    "    margin=dict(t=80, b=10, r=10, l=10),\n",
    "    #font=dict(size=9, family='Arial Black', color=pallete[0]),\n",
    ")\n",
    "\n",
    "pio.templates['light_blue_sea'] = go.layout.Template(layout=plotly_template)\n",
    "pio.templates.default = \"light_blue_sea\"\n",
    "\n",
    "W = 600\n",
    "H = 400\n",
    "\n"
   ]
  },
  {
   "cell_type": "markdown",
   "metadata": {},
   "source": [
    "### 1.3 Plot functions"
   ]
  },
  {
   "cell_type": "code",
   "execution_count": null,
   "metadata": {},
   "outputs": [],
   "source": [
    "def default_rate_bar_plot(df, xlabel:str, title, **kwargs):\n",
    "\n",
    "    df = df.copy()\n",
    "    df['default_rate'] = df[0] / (df[0]+df[1])\n",
    "    \n",
    "    # Create the vertical bar chart\n",
    "    fig = px.bar(\n",
    "        df,\n",
    "        x=df.index,\n",
    "        y='default_rate',\n",
    "        orientation=\"v\",\n",
    "        text='default_rate',\n",
    "        title=title,\n",
    "        labels={\"default_rate\": \"Default Rate [%]\", df.index.name: xlabel},\n",
    "        color= df.index,\n",
    "    )\n",
    "\n",
    "    fig.update_traces(textposition='outside', texttemplate='%{text:.0%}')\n",
    "    fig.update_layout(uniformtext_minsize=8)\n",
    "    fig.update_traces(width=0.6) \n",
    "    \n",
    "    if not kwargs.get('show_color_map', False):\n",
    "        fig.update_coloraxes(showscale=False)\n",
    "\n",
    "\n",
    "    # Update layout\n",
    "    fig.update_layout(\n",
    "        #barmode=\"stack\",\n",
    "        showlegend=False,\n",
    "        yaxis=dict(\n",
    "            tickformat=\".0%\",\n",
    "            range=kwargs.get('yaxis_range', None)\n",
    "            ),\n",
    "        width=W,\n",
    "        height=H,\n",
    "    )\n",
    "\n",
    "    return fig\n",
    "\n",
    "def unvariate_bar_plot(df, col_name:str, title:str, xlabel:str, limit=5, **kwargs):\n",
    "    \n",
    "    purpose_counts = df[col_name].value_counts(True).head(limit).reset_index()\n",
    "    purpose_counts.columns = [col_name, 'count']\n",
    "\n",
    "    fig = px.bar(\n",
    "            purpose_counts,\n",
    "            x=col_name,\n",
    "            y='count' ,\n",
    "            title=title,\n",
    "            labels={col_name: xlabel, 'count': 'Percentage [%]'},\n",
    "            color=col_name,\n",
    "            text='count',\n",
    "        )\n",
    "\n",
    "        # Update trace settings for text position\n",
    "    fig.update_traces(\n",
    "            textposition='outside', \n",
    "            texttemplate='%{text:.2%}',\n",
    "            width=0.6,\n",
    "        )\n",
    "        \n",
    "    # Update layout\n",
    "    fig.update_layout(\n",
    "            showlegend=False,\n",
    "            yaxis=dict(\n",
    "                tickformat=\".0%\",\n",
    "                range=kwargs.get('yaxis_range', [0,1])\n",
    "                ),\n",
    "            width=W,\n",
    "            height=H,\n",
    "        )\n",
    "        \n",
    "    return fig\n",
    "\n",
    "    "
   ]
  },
  {
   "cell_type": "markdown",
   "metadata": {},
   "source": [
    "## 2. Data preprocessing"
   ]
  },
  {
   "cell_type": "code",
   "execution_count": 156,
   "metadata": {},
   "outputs": [
    {
     "name": "stderr",
     "output_type": "stream",
     "text": [
      "C:\\Users\\rafae\\AppData\\Local\\Temp\\ipykernel_26088\\2826051011.py:1: DtypeWarning:\n",
      "\n",
      "Columns (20) have mixed types. Specify dtype option on import or set low_memory=False.\n",
      "\n"
     ]
    },
    {
     "data": {
      "text/html": [
       "<div>\n",
       "<style scoped>\n",
       "    .dataframe tbody tr th:only-of-type {\n",
       "        vertical-align: middle;\n",
       "    }\n",
       "\n",
       "    .dataframe tbody tr th {\n",
       "        vertical-align: top;\n",
       "    }\n",
       "\n",
       "    .dataframe thead th {\n",
       "        text-align: right;\n",
       "    }\n",
       "</style>\n",
       "<table border=\"1\" class=\"dataframe\">\n",
       "  <thead>\n",
       "    <tr style=\"text-align: right;\">\n",
       "      <th></th>\n",
       "      <th>member_id</th>\n",
       "      <th>loan_amnt</th>\n",
       "      <th>funded_amnt</th>\n",
       "      <th>funded_amnt_inv</th>\n",
       "      <th>int_rate</th>\n",
       "      <th>installment</th>\n",
       "      <th>annual_inc</th>\n",
       "      <th>dti</th>\n",
       "      <th>delinq_2yrs</th>\n",
       "      <th>inq_last_6mths</th>\n",
       "      <th>mths_since_last_delinq</th>\n",
       "      <th>mths_since_last_record</th>\n",
       "      <th>open_acc</th>\n",
       "      <th>pub_rec</th>\n",
       "      <th>revol_bal</th>\n",
       "      <th>revol_util</th>\n",
       "      <th>total_acc</th>\n",
       "      <th>out_prncp</th>\n",
       "      <th>out_prncp_inv</th>\n",
       "      <th>total_pymnt</th>\n",
       "      <th>total_pymnt_inv</th>\n",
       "      <th>total_rec_prncp</th>\n",
       "      <th>total_rec_int</th>\n",
       "      <th>total_rec_late_fee</th>\n",
       "      <th>recoveries</th>\n",
       "      <th>collection_recovery_fee</th>\n",
       "      <th>last_pymnt_amnt</th>\n",
       "      <th>collections_12_mths_ex_med</th>\n",
       "      <th>mths_since_last_major_derog</th>\n",
       "      <th>policy_code</th>\n",
       "      <th>annual_inc_joint</th>\n",
       "      <th>dti_joint</th>\n",
       "      <th>verification_status_joint</th>\n",
       "      <th>acc_now_delinq</th>\n",
       "      <th>tot_coll_amt</th>\n",
       "      <th>tot_cur_bal</th>\n",
       "      <th>open_acc_6m</th>\n",
       "      <th>open_il_6m</th>\n",
       "      <th>open_il_12m</th>\n",
       "      <th>open_il_24m</th>\n",
       "      <th>mths_since_rcnt_il</th>\n",
       "      <th>total_bal_il</th>\n",
       "      <th>il_util</th>\n",
       "      <th>open_rv_12m</th>\n",
       "      <th>open_rv_24m</th>\n",
       "      <th>max_bal_bc</th>\n",
       "      <th>all_util</th>\n",
       "      <th>total_rev_hi_lim</th>\n",
       "      <th>inq_fi</th>\n",
       "      <th>total_cu_tl</th>\n",
       "      <th>inq_last_12m</th>\n",
       "    </tr>\n",
       "  </thead>\n",
       "  <tbody>\n",
       "    <tr>\n",
       "      <th>count</th>\n",
       "      <td>4.662850e+05</td>\n",
       "      <td>466285.000000</td>\n",
       "      <td>466285.000000</td>\n",
       "      <td>466285.000000</td>\n",
       "      <td>466285.000000</td>\n",
       "      <td>466285.000000</td>\n",
       "      <td>4.662810e+05</td>\n",
       "      <td>466285.000000</td>\n",
       "      <td>466256.000000</td>\n",
       "      <td>466256.000000</td>\n",
       "      <td>215934.000000</td>\n",
       "      <td>62638.000000</td>\n",
       "      <td>466256.000000</td>\n",
       "      <td>466256.000000</td>\n",
       "      <td>4.662850e+05</td>\n",
       "      <td>465945.000000</td>\n",
       "      <td>466256.000000</td>\n",
       "      <td>466285.000000</td>\n",
       "      <td>466285.000000</td>\n",
       "      <td>466285.000000</td>\n",
       "      <td>466285.000000</td>\n",
       "      <td>466285.000000</td>\n",
       "      <td>466285.000000</td>\n",
       "      <td>466285.000000</td>\n",
       "      <td>466285.000000</td>\n",
       "      <td>466285.000000</td>\n",
       "      <td>466285.000000</td>\n",
       "      <td>466140.000000</td>\n",
       "      <td>98974.000000</td>\n",
       "      <td>466285.0</td>\n",
       "      <td>0.0</td>\n",
       "      <td>0.0</td>\n",
       "      <td>0.0</td>\n",
       "      <td>466256.000000</td>\n",
       "      <td>3.960090e+05</td>\n",
       "      <td>3.960090e+05</td>\n",
       "      <td>0.0</td>\n",
       "      <td>0.0</td>\n",
       "      <td>0.0</td>\n",
       "      <td>0.0</td>\n",
       "      <td>0.0</td>\n",
       "      <td>0.0</td>\n",
       "      <td>0.0</td>\n",
       "      <td>0.0</td>\n",
       "      <td>0.0</td>\n",
       "      <td>0.0</td>\n",
       "      <td>0.0</td>\n",
       "      <td>3.960090e+05</td>\n",
       "      <td>0.0</td>\n",
       "      <td>0.0</td>\n",
       "      <td>0.0</td>\n",
       "    </tr>\n",
       "    <tr>\n",
       "      <th>mean</th>\n",
       "      <td>1.459766e+07</td>\n",
       "      <td>14317.277577</td>\n",
       "      <td>14291.801044</td>\n",
       "      <td>14222.329888</td>\n",
       "      <td>13.829236</td>\n",
       "      <td>432.061201</td>\n",
       "      <td>7.327738e+04</td>\n",
       "      <td>17.218758</td>\n",
       "      <td>0.284678</td>\n",
       "      <td>0.804745</td>\n",
       "      <td>34.104430</td>\n",
       "      <td>74.306012</td>\n",
       "      <td>11.187069</td>\n",
       "      <td>0.160564</td>\n",
       "      <td>1.623020e+04</td>\n",
       "      <td>56.176947</td>\n",
       "      <td>25.064430</td>\n",
       "      <td>4410.062342</td>\n",
       "      <td>4408.452258</td>\n",
       "      <td>11540.686220</td>\n",
       "      <td>11469.892747</td>\n",
       "      <td>8866.014657</td>\n",
       "      <td>2588.677225</td>\n",
       "      <td>0.650129</td>\n",
       "      <td>85.344211</td>\n",
       "      <td>8.961534</td>\n",
       "      <td>3123.913796</td>\n",
       "      <td>0.009085</td>\n",
       "      <td>42.852547</td>\n",
       "      <td>1.0</td>\n",
       "      <td>NaN</td>\n",
       "      <td>NaN</td>\n",
       "      <td>NaN</td>\n",
       "      <td>0.004002</td>\n",
       "      <td>1.919135e+02</td>\n",
       "      <td>1.388017e+05</td>\n",
       "      <td>NaN</td>\n",
       "      <td>NaN</td>\n",
       "      <td>NaN</td>\n",
       "      <td>NaN</td>\n",
       "      <td>NaN</td>\n",
       "      <td>NaN</td>\n",
       "      <td>NaN</td>\n",
       "      <td>NaN</td>\n",
       "      <td>NaN</td>\n",
       "      <td>NaN</td>\n",
       "      <td>NaN</td>\n",
       "      <td>3.037909e+04</td>\n",
       "      <td>NaN</td>\n",
       "      <td>NaN</td>\n",
       "      <td>NaN</td>\n",
       "    </tr>\n",
       "    <tr>\n",
       "      <th>std</th>\n",
       "      <td>1.168237e+07</td>\n",
       "      <td>8286.509164</td>\n",
       "      <td>8274.371300</td>\n",
       "      <td>8297.637788</td>\n",
       "      <td>4.357587</td>\n",
       "      <td>243.485550</td>\n",
       "      <td>5.496357e+04</td>\n",
       "      <td>7.851121</td>\n",
       "      <td>0.797365</td>\n",
       "      <td>1.091598</td>\n",
       "      <td>21.778487</td>\n",
       "      <td>30.357653</td>\n",
       "      <td>4.987526</td>\n",
       "      <td>0.510863</td>\n",
       "      <td>2.067625e+04</td>\n",
       "      <td>23.732628</td>\n",
       "      <td>11.600141</td>\n",
       "      <td>6355.078769</td>\n",
       "      <td>6353.198001</td>\n",
       "      <td>8265.627112</td>\n",
       "      <td>8254.157579</td>\n",
       "      <td>7031.687997</td>\n",
       "      <td>2483.809661</td>\n",
       "      <td>5.265730</td>\n",
       "      <td>552.216084</td>\n",
       "      <td>85.491437</td>\n",
       "      <td>5554.737393</td>\n",
       "      <td>0.108648</td>\n",
       "      <td>21.662591</td>\n",
       "      <td>0.0</td>\n",
       "      <td>NaN</td>\n",
       "      <td>NaN</td>\n",
       "      <td>NaN</td>\n",
       "      <td>0.068637</td>\n",
       "      <td>1.463021e+04</td>\n",
       "      <td>1.521147e+05</td>\n",
       "      <td>NaN</td>\n",
       "      <td>NaN</td>\n",
       "      <td>NaN</td>\n",
       "      <td>NaN</td>\n",
       "      <td>NaN</td>\n",
       "      <td>NaN</td>\n",
       "      <td>NaN</td>\n",
       "      <td>NaN</td>\n",
       "      <td>NaN</td>\n",
       "      <td>NaN</td>\n",
       "      <td>NaN</td>\n",
       "      <td>3.724713e+04</td>\n",
       "      <td>NaN</td>\n",
       "      <td>NaN</td>\n",
       "      <td>NaN</td>\n",
       "    </tr>\n",
       "    <tr>\n",
       "      <th>min</th>\n",
       "      <td>7.047300e+04</td>\n",
       "      <td>500.000000</td>\n",
       "      <td>500.000000</td>\n",
       "      <td>0.000000</td>\n",
       "      <td>5.420000</td>\n",
       "      <td>15.670000</td>\n",
       "      <td>1.896000e+03</td>\n",
       "      <td>0.000000</td>\n",
       "      <td>0.000000</td>\n",
       "      <td>0.000000</td>\n",
       "      <td>0.000000</td>\n",
       "      <td>0.000000</td>\n",
       "      <td>0.000000</td>\n",
       "      <td>0.000000</td>\n",
       "      <td>0.000000e+00</td>\n",
       "      <td>0.000000</td>\n",
       "      <td>1.000000</td>\n",
       "      <td>0.000000</td>\n",
       "      <td>0.000000</td>\n",
       "      <td>0.000000</td>\n",
       "      <td>0.000000</td>\n",
       "      <td>0.000000</td>\n",
       "      <td>0.000000</td>\n",
       "      <td>0.000000</td>\n",
       "      <td>0.000000</td>\n",
       "      <td>0.000000</td>\n",
       "      <td>0.000000</td>\n",
       "      <td>0.000000</td>\n",
       "      <td>0.000000</td>\n",
       "      <td>1.0</td>\n",
       "      <td>NaN</td>\n",
       "      <td>NaN</td>\n",
       "      <td>NaN</td>\n",
       "      <td>0.000000</td>\n",
       "      <td>0.000000e+00</td>\n",
       "      <td>0.000000e+00</td>\n",
       "      <td>NaN</td>\n",
       "      <td>NaN</td>\n",
       "      <td>NaN</td>\n",
       "      <td>NaN</td>\n",
       "      <td>NaN</td>\n",
       "      <td>NaN</td>\n",
       "      <td>NaN</td>\n",
       "      <td>NaN</td>\n",
       "      <td>NaN</td>\n",
       "      <td>NaN</td>\n",
       "      <td>NaN</td>\n",
       "      <td>0.000000e+00</td>\n",
       "      <td>NaN</td>\n",
       "      <td>NaN</td>\n",
       "      <td>NaN</td>\n",
       "    </tr>\n",
       "    <tr>\n",
       "      <th>25%</th>\n",
       "      <td>4.379705e+06</td>\n",
       "      <td>8000.000000</td>\n",
       "      <td>8000.000000</td>\n",
       "      <td>8000.000000</td>\n",
       "      <td>10.990000</td>\n",
       "      <td>256.690000</td>\n",
       "      <td>4.500000e+04</td>\n",
       "      <td>11.360000</td>\n",
       "      <td>0.000000</td>\n",
       "      <td>0.000000</td>\n",
       "      <td>16.000000</td>\n",
       "      <td>53.000000</td>\n",
       "      <td>8.000000</td>\n",
       "      <td>0.000000</td>\n",
       "      <td>6.413000e+03</td>\n",
       "      <td>39.200000</td>\n",
       "      <td>17.000000</td>\n",
       "      <td>0.000000</td>\n",
       "      <td>0.000000</td>\n",
       "      <td>5552.125349</td>\n",
       "      <td>5499.250000</td>\n",
       "      <td>3708.560000</td>\n",
       "      <td>957.280000</td>\n",
       "      <td>0.000000</td>\n",
       "      <td>0.000000</td>\n",
       "      <td>0.000000</td>\n",
       "      <td>312.620000</td>\n",
       "      <td>0.000000</td>\n",
       "      <td>26.000000</td>\n",
       "      <td>1.0</td>\n",
       "      <td>NaN</td>\n",
       "      <td>NaN</td>\n",
       "      <td>NaN</td>\n",
       "      <td>0.000000</td>\n",
       "      <td>0.000000e+00</td>\n",
       "      <td>2.861800e+04</td>\n",
       "      <td>NaN</td>\n",
       "      <td>NaN</td>\n",
       "      <td>NaN</td>\n",
       "      <td>NaN</td>\n",
       "      <td>NaN</td>\n",
       "      <td>NaN</td>\n",
       "      <td>NaN</td>\n",
       "      <td>NaN</td>\n",
       "      <td>NaN</td>\n",
       "      <td>NaN</td>\n",
       "      <td>NaN</td>\n",
       "      <td>1.350000e+04</td>\n",
       "      <td>NaN</td>\n",
       "      <td>NaN</td>\n",
       "      <td>NaN</td>\n",
       "    </tr>\n",
       "    <tr>\n",
       "      <th>50%</th>\n",
       "      <td>1.194108e+07</td>\n",
       "      <td>12000.000000</td>\n",
       "      <td>12000.000000</td>\n",
       "      <td>12000.000000</td>\n",
       "      <td>13.660000</td>\n",
       "      <td>379.890000</td>\n",
       "      <td>6.300000e+04</td>\n",
       "      <td>16.870000</td>\n",
       "      <td>0.000000</td>\n",
       "      <td>0.000000</td>\n",
       "      <td>31.000000</td>\n",
       "      <td>76.000000</td>\n",
       "      <td>10.000000</td>\n",
       "      <td>0.000000</td>\n",
       "      <td>1.176400e+04</td>\n",
       "      <td>57.600000</td>\n",
       "      <td>23.000000</td>\n",
       "      <td>441.470000</td>\n",
       "      <td>441.380000</td>\n",
       "      <td>9419.250943</td>\n",
       "      <td>9355.430000</td>\n",
       "      <td>6817.760000</td>\n",
       "      <td>1818.880000</td>\n",
       "      <td>0.000000</td>\n",
       "      <td>0.000000</td>\n",
       "      <td>0.000000</td>\n",
       "      <td>545.960000</td>\n",
       "      <td>0.000000</td>\n",
       "      <td>42.000000</td>\n",
       "      <td>1.0</td>\n",
       "      <td>NaN</td>\n",
       "      <td>NaN</td>\n",
       "      <td>NaN</td>\n",
       "      <td>0.000000</td>\n",
       "      <td>0.000000e+00</td>\n",
       "      <td>8.153900e+04</td>\n",
       "      <td>NaN</td>\n",
       "      <td>NaN</td>\n",
       "      <td>NaN</td>\n",
       "      <td>NaN</td>\n",
       "      <td>NaN</td>\n",
       "      <td>NaN</td>\n",
       "      <td>NaN</td>\n",
       "      <td>NaN</td>\n",
       "      <td>NaN</td>\n",
       "      <td>NaN</td>\n",
       "      <td>NaN</td>\n",
       "      <td>2.280000e+04</td>\n",
       "      <td>NaN</td>\n",
       "      <td>NaN</td>\n",
       "      <td>NaN</td>\n",
       "    </tr>\n",
       "    <tr>\n",
       "      <th>75%</th>\n",
       "      <td>2.300154e+07</td>\n",
       "      <td>20000.000000</td>\n",
       "      <td>20000.000000</td>\n",
       "      <td>19950.000000</td>\n",
       "      <td>16.490000</td>\n",
       "      <td>566.580000</td>\n",
       "      <td>8.896000e+04</td>\n",
       "      <td>22.780000</td>\n",
       "      <td>0.000000</td>\n",
       "      <td>1.000000</td>\n",
       "      <td>49.000000</td>\n",
       "      <td>102.000000</td>\n",
       "      <td>14.000000</td>\n",
       "      <td>0.000000</td>\n",
       "      <td>2.033300e+04</td>\n",
       "      <td>74.700000</td>\n",
       "      <td>32.000000</td>\n",
       "      <td>7341.650000</td>\n",
       "      <td>7338.390000</td>\n",
       "      <td>15308.158460</td>\n",
       "      <td>15231.310000</td>\n",
       "      <td>12000.000000</td>\n",
       "      <td>3304.530000</td>\n",
       "      <td>0.000000</td>\n",
       "      <td>0.000000</td>\n",
       "      <td>0.000000</td>\n",
       "      <td>3187.510000</td>\n",
       "      <td>0.000000</td>\n",
       "      <td>59.000000</td>\n",
       "      <td>1.0</td>\n",
       "      <td>NaN</td>\n",
       "      <td>NaN</td>\n",
       "      <td>NaN</td>\n",
       "      <td>0.000000</td>\n",
       "      <td>0.000000e+00</td>\n",
       "      <td>2.089530e+05</td>\n",
       "      <td>NaN</td>\n",
       "      <td>NaN</td>\n",
       "      <td>NaN</td>\n",
       "      <td>NaN</td>\n",
       "      <td>NaN</td>\n",
       "      <td>NaN</td>\n",
       "      <td>NaN</td>\n",
       "      <td>NaN</td>\n",
       "      <td>NaN</td>\n",
       "      <td>NaN</td>\n",
       "      <td>NaN</td>\n",
       "      <td>3.790000e+04</td>\n",
       "      <td>NaN</td>\n",
       "      <td>NaN</td>\n",
       "      <td>NaN</td>\n",
       "    </tr>\n",
       "    <tr>\n",
       "      <th>max</th>\n",
       "      <td>4.086083e+07</td>\n",
       "      <td>35000.000000</td>\n",
       "      <td>35000.000000</td>\n",
       "      <td>35000.000000</td>\n",
       "      <td>26.060000</td>\n",
       "      <td>1409.990000</td>\n",
       "      <td>7.500000e+06</td>\n",
       "      <td>39.990000</td>\n",
       "      <td>29.000000</td>\n",
       "      <td>33.000000</td>\n",
       "      <td>188.000000</td>\n",
       "      <td>129.000000</td>\n",
       "      <td>84.000000</td>\n",
       "      <td>63.000000</td>\n",
       "      <td>2.568995e+06</td>\n",
       "      <td>892.300000</td>\n",
       "      <td>156.000000</td>\n",
       "      <td>32160.380000</td>\n",
       "      <td>32160.380000</td>\n",
       "      <td>57777.579870</td>\n",
       "      <td>57777.580000</td>\n",
       "      <td>35000.030000</td>\n",
       "      <td>24205.620000</td>\n",
       "      <td>358.680000</td>\n",
       "      <td>33520.270000</td>\n",
       "      <td>7002.190000</td>\n",
       "      <td>36234.440000</td>\n",
       "      <td>20.000000</td>\n",
       "      <td>188.000000</td>\n",
       "      <td>1.0</td>\n",
       "      <td>NaN</td>\n",
       "      <td>NaN</td>\n",
       "      <td>NaN</td>\n",
       "      <td>5.000000</td>\n",
       "      <td>9.152545e+06</td>\n",
       "      <td>8.000078e+06</td>\n",
       "      <td>NaN</td>\n",
       "      <td>NaN</td>\n",
       "      <td>NaN</td>\n",
       "      <td>NaN</td>\n",
       "      <td>NaN</td>\n",
       "      <td>NaN</td>\n",
       "      <td>NaN</td>\n",
       "      <td>NaN</td>\n",
       "      <td>NaN</td>\n",
       "      <td>NaN</td>\n",
       "      <td>NaN</td>\n",
       "      <td>9.999999e+06</td>\n",
       "      <td>NaN</td>\n",
       "      <td>NaN</td>\n",
       "      <td>NaN</td>\n",
       "    </tr>\n",
       "  </tbody>\n",
       "</table>\n",
       "</div>"
      ],
      "text/plain": [
       "          member_id      loan_amnt    funded_amnt  funded_amnt_inv  \\\n",
       "count  4.662850e+05  466285.000000  466285.000000    466285.000000   \n",
       "mean   1.459766e+07   14317.277577   14291.801044     14222.329888   \n",
       "std    1.168237e+07    8286.509164    8274.371300      8297.637788   \n",
       "min    7.047300e+04     500.000000     500.000000         0.000000   \n",
       "25%    4.379705e+06    8000.000000    8000.000000      8000.000000   \n",
       "50%    1.194108e+07   12000.000000   12000.000000     12000.000000   \n",
       "75%    2.300154e+07   20000.000000   20000.000000     19950.000000   \n",
       "max    4.086083e+07   35000.000000   35000.000000     35000.000000   \n",
       "\n",
       "            int_rate    installment    annual_inc            dti  \\\n",
       "count  466285.000000  466285.000000  4.662810e+05  466285.000000   \n",
       "mean       13.829236     432.061201  7.327738e+04      17.218758   \n",
       "std         4.357587     243.485550  5.496357e+04       7.851121   \n",
       "min         5.420000      15.670000  1.896000e+03       0.000000   \n",
       "25%        10.990000     256.690000  4.500000e+04      11.360000   \n",
       "50%        13.660000     379.890000  6.300000e+04      16.870000   \n",
       "75%        16.490000     566.580000  8.896000e+04      22.780000   \n",
       "max        26.060000    1409.990000  7.500000e+06      39.990000   \n",
       "\n",
       "         delinq_2yrs  inq_last_6mths  mths_since_last_delinq  \\\n",
       "count  466256.000000   466256.000000           215934.000000   \n",
       "mean        0.284678        0.804745               34.104430   \n",
       "std         0.797365        1.091598               21.778487   \n",
       "min         0.000000        0.000000                0.000000   \n",
       "25%         0.000000        0.000000               16.000000   \n",
       "50%         0.000000        0.000000               31.000000   \n",
       "75%         0.000000        1.000000               49.000000   \n",
       "max        29.000000       33.000000              188.000000   \n",
       "\n",
       "       mths_since_last_record       open_acc        pub_rec     revol_bal  \\\n",
       "count            62638.000000  466256.000000  466256.000000  4.662850e+05   \n",
       "mean                74.306012      11.187069       0.160564  1.623020e+04   \n",
       "std                 30.357653       4.987526       0.510863  2.067625e+04   \n",
       "min                  0.000000       0.000000       0.000000  0.000000e+00   \n",
       "25%                 53.000000       8.000000       0.000000  6.413000e+03   \n",
       "50%                 76.000000      10.000000       0.000000  1.176400e+04   \n",
       "75%                102.000000      14.000000       0.000000  2.033300e+04   \n",
       "max                129.000000      84.000000      63.000000  2.568995e+06   \n",
       "\n",
       "          revol_util      total_acc      out_prncp  out_prncp_inv  \\\n",
       "count  465945.000000  466256.000000  466285.000000  466285.000000   \n",
       "mean       56.176947      25.064430    4410.062342    4408.452258   \n",
       "std        23.732628      11.600141    6355.078769    6353.198001   \n",
       "min         0.000000       1.000000       0.000000       0.000000   \n",
       "25%        39.200000      17.000000       0.000000       0.000000   \n",
       "50%        57.600000      23.000000     441.470000     441.380000   \n",
       "75%        74.700000      32.000000    7341.650000    7338.390000   \n",
       "max       892.300000     156.000000   32160.380000   32160.380000   \n",
       "\n",
       "         total_pymnt  total_pymnt_inv  total_rec_prncp  total_rec_int  \\\n",
       "count  466285.000000    466285.000000    466285.000000  466285.000000   \n",
       "mean    11540.686220     11469.892747      8866.014657    2588.677225   \n",
       "std      8265.627112      8254.157579      7031.687997    2483.809661   \n",
       "min         0.000000         0.000000         0.000000       0.000000   \n",
       "25%      5552.125349      5499.250000      3708.560000     957.280000   \n",
       "50%      9419.250943      9355.430000      6817.760000    1818.880000   \n",
       "75%     15308.158460     15231.310000     12000.000000    3304.530000   \n",
       "max     57777.579870     57777.580000     35000.030000   24205.620000   \n",
       "\n",
       "       total_rec_late_fee     recoveries  collection_recovery_fee  \\\n",
       "count       466285.000000  466285.000000            466285.000000   \n",
       "mean             0.650129      85.344211                 8.961534   \n",
       "std              5.265730     552.216084                85.491437   \n",
       "min              0.000000       0.000000                 0.000000   \n",
       "25%              0.000000       0.000000                 0.000000   \n",
       "50%              0.000000       0.000000                 0.000000   \n",
       "75%              0.000000       0.000000                 0.000000   \n",
       "max            358.680000   33520.270000              7002.190000   \n",
       "\n",
       "       last_pymnt_amnt  collections_12_mths_ex_med  \\\n",
       "count    466285.000000               466140.000000   \n",
       "mean       3123.913796                    0.009085   \n",
       "std        5554.737393                    0.108648   \n",
       "min           0.000000                    0.000000   \n",
       "25%         312.620000                    0.000000   \n",
       "50%         545.960000                    0.000000   \n",
       "75%        3187.510000                    0.000000   \n",
       "max       36234.440000                   20.000000   \n",
       "\n",
       "       mths_since_last_major_derog  policy_code  annual_inc_joint  dti_joint  \\\n",
       "count                 98974.000000     466285.0               0.0        0.0   \n",
       "mean                     42.852547          1.0               NaN        NaN   \n",
       "std                      21.662591          0.0               NaN        NaN   \n",
       "min                       0.000000          1.0               NaN        NaN   \n",
       "25%                      26.000000          1.0               NaN        NaN   \n",
       "50%                      42.000000          1.0               NaN        NaN   \n",
       "75%                      59.000000          1.0               NaN        NaN   \n",
       "max                     188.000000          1.0               NaN        NaN   \n",
       "\n",
       "       verification_status_joint  acc_now_delinq  tot_coll_amt   tot_cur_bal  \\\n",
       "count                        0.0   466256.000000  3.960090e+05  3.960090e+05   \n",
       "mean                         NaN        0.004002  1.919135e+02  1.388017e+05   \n",
       "std                          NaN        0.068637  1.463021e+04  1.521147e+05   \n",
       "min                          NaN        0.000000  0.000000e+00  0.000000e+00   \n",
       "25%                          NaN        0.000000  0.000000e+00  2.861800e+04   \n",
       "50%                          NaN        0.000000  0.000000e+00  8.153900e+04   \n",
       "75%                          NaN        0.000000  0.000000e+00  2.089530e+05   \n",
       "max                          NaN        5.000000  9.152545e+06  8.000078e+06   \n",
       "\n",
       "       open_acc_6m  open_il_6m  open_il_12m  open_il_24m  mths_since_rcnt_il  \\\n",
       "count          0.0         0.0          0.0          0.0                 0.0   \n",
       "mean           NaN         NaN          NaN          NaN                 NaN   \n",
       "std            NaN         NaN          NaN          NaN                 NaN   \n",
       "min            NaN         NaN          NaN          NaN                 NaN   \n",
       "25%            NaN         NaN          NaN          NaN                 NaN   \n",
       "50%            NaN         NaN          NaN          NaN                 NaN   \n",
       "75%            NaN         NaN          NaN          NaN                 NaN   \n",
       "max            NaN         NaN          NaN          NaN                 NaN   \n",
       "\n",
       "       total_bal_il  il_util  open_rv_12m  open_rv_24m  max_bal_bc  all_util  \\\n",
       "count           0.0      0.0          0.0          0.0         0.0       0.0   \n",
       "mean            NaN      NaN          NaN          NaN         NaN       NaN   \n",
       "std             NaN      NaN          NaN          NaN         NaN       NaN   \n",
       "min             NaN      NaN          NaN          NaN         NaN       NaN   \n",
       "25%             NaN      NaN          NaN          NaN         NaN       NaN   \n",
       "50%             NaN      NaN          NaN          NaN         NaN       NaN   \n",
       "75%             NaN      NaN          NaN          NaN         NaN       NaN   \n",
       "max             NaN      NaN          NaN          NaN         NaN       NaN   \n",
       "\n",
       "       total_rev_hi_lim  inq_fi  total_cu_tl  inq_last_12m  \n",
       "count      3.960090e+05     0.0          0.0           0.0  \n",
       "mean       3.037909e+04     NaN          NaN           NaN  \n",
       "std        3.724713e+04     NaN          NaN           NaN  \n",
       "min        0.000000e+00     NaN          NaN           NaN  \n",
       "25%        1.350000e+04     NaN          NaN           NaN  \n",
       "50%        2.280000e+04     NaN          NaN           NaN  \n",
       "75%        3.790000e+04     NaN          NaN           NaN  \n",
       "max        9.999999e+06     NaN          NaN           NaN  "
      ]
     },
     "execution_count": 156,
     "metadata": {},
     "output_type": "execute_result"
    }
   ],
   "source": [
    "loans_df = pd.read_csv(\"loan_data_2007_2014.csv\", )\n",
    "loans_df = loans_df.iloc[:,2:] # Ignore bugged indexes\n",
    "loans_df.describe()"
   ]
  },
  {
   "cell_type": "code",
   "execution_count": 45,
   "metadata": {},
   "outputs": [],
   "source": [
    "loans_df['risky'] = loans_df['loan_status'].isin(['Fully Paid', 'Current']).astype(int)\n",
    "\n",
    "loans_df['last_pymnt_d'] = pd.to_datetime(loans_df['last_pymnt_d'], format='%b-%y')\n",
    "loans_df['issue_d'] = pd.to_datetime(loans_df['last_pymnt_d'], format='%b-%y')\n",
    "loans_df['last_credit_pull_d'] = pd.to_datetime(loans_df['last_credit_pull_d'], format='%b-%y')\n",
    "loans_df['last_pymnt_d_year'] = loans_df['last_pymnt_d'].dt.year\n",
    "loans_df['issue_d_year'] = loans_df['issue_d'].dt.year\n",
    "loans_df['last_credit_pull_d_year'] = loans_df['last_credit_pull_d'].dt.year\n",
    "\n",
    "prime_df = loans_df[loans_df['risky'] == 1]\n",
    "subprime_df = loans_df[loans_df['risky'] == 0]"
   ]
  },
  {
   "cell_type": "markdown",
   "metadata": {},
   "source": [
    "## 3. Study\n",
    "\n",
    "### 3.1 Loans"
   ]
  },
  {
   "cell_type": "markdown",
   "metadata": {},
   "source": [
    "#### 3.1.1 Loans Purpose"
   ]
  },
  {
   "cell_type": "code",
   "execution_count": 54,
   "metadata": {},
   "outputs": [
    {
     "data": {
      "application/vnd.plotly.v1+json": {
       "config": {
        "plotlyServerURL": "https://plot.ly"
       },
       "data": [
        {
         "alignmentgroup": "True",
         "hovertemplate": "Loan Purpose=%{x}<br>Percentage [%]=%{text}<extra></extra>",
         "legendgroup": "debt_consolidation",
         "marker": {
          "color": "rgb(3, 5, 18)",
          "pattern": {
           "shape": ""
          }
         },
         "name": "debt_consolidation",
         "offsetgroup": "debt_consolidation",
         "orientation": "v",
         "showlegend": true,
         "text": [
          0.5880416483481132
         ],
         "textposition": "outside",
         "texttemplate": "%{text:.2%}",
         "type": "bar",
         "width": 0.6,
         "x": [
          "debt_consolidation"
         ],
         "xaxis": "x",
         "y": [
          0.5880416483481132
         ],
         "yaxis": "y"
        },
        {
         "alignmentgroup": "True",
         "hovertemplate": "Loan Purpose=%{x}<br>Percentage [%]=%{text}<extra></extra>",
         "legendgroup": "credit_card",
         "marker": {
          "color": "rgb(25, 25, 51)",
          "pattern": {
           "shape": ""
          }
         },
         "name": "credit_card",
         "offsetgroup": "credit_card",
         "orientation": "v",
         "showlegend": true,
         "text": [
          0.22337626129941987
         ],
         "textposition": "outside",
         "texttemplate": "%{text:.2%}",
         "type": "bar",
         "width": 0.6,
         "x": [
          "credit_card"
         ],
         "xaxis": "x",
         "y": [
          0.22337626129941987
         ],
         "yaxis": "y"
        },
        {
         "alignmentgroup": "True",
         "hovertemplate": "Loan Purpose=%{x}<br>Percentage [%]=%{text}<extra></extra>",
         "legendgroup": "home_improvement",
         "marker": {
          "color": "rgb(44, 42, 87)",
          "pattern": {
           "shape": ""
          }
         },
         "name": "home_improvement",
         "offsetgroup": "home_improvement",
         "orientation": "v",
         "showlegend": true,
         "text": [
          0.05691154551400967
         ],
         "textposition": "outside",
         "texttemplate": "%{text:.2%}",
         "type": "bar",
         "width": 0.6,
         "x": [
          "home_improvement"
         ],
         "xaxis": "x",
         "y": [
          0.05691154551400967
         ],
         "yaxis": "y"
        },
        {
         "alignmentgroup": "True",
         "hovertemplate": "Loan Purpose=%{x}<br>Percentage [%]=%{text}<extra></extra>",
         "legendgroup": "other",
         "marker": {
          "color": "rgb(58, 60, 125)",
          "pattern": {
           "shape": ""
          }
         },
         "name": "other",
         "offsetgroup": "other",
         "orientation": "v",
         "showlegend": true,
         "text": [
          0.05080583763149147
         ],
         "textposition": "outside",
         "texttemplate": "%{text:.2%}",
         "type": "bar",
         "width": 0.6,
         "x": [
          "other"
         ],
         "xaxis": "x",
         "y": [
          0.05080583763149147
         ],
         "yaxis": "y"
        },
        {
         "alignmentgroup": "True",
         "hovertemplate": "Loan Purpose=%{x}<br>Percentage [%]=%{text}<extra></extra>",
         "legendgroup": "major_purchase",
         "marker": {
          "color": "rgb(62, 83, 160)",
          "pattern": {
           "shape": ""
          }
         },
         "name": "major_purchase",
         "offsetgroup": "major_purchase",
         "orientation": "v",
         "showlegend": true,
         "text": [
          0.02107723816978886
         ],
         "textposition": "outside",
         "texttemplate": "%{text:.2%}",
         "type": "bar",
         "width": 0.6,
         "x": [
          "major_purchase"
         ],
         "xaxis": "x",
         "y": [
          0.02107723816978886
         ],
         "yaxis": "y"
        }
       ],
       "layout": {
        "barmode": "relative",
        "height": 400,
        "legend": {
         "title": {
          "text": "Loan Purpose"
         },
         "tracegroupgap": 0
        },
        "showlegend": false,
        "template": {
         "layout": {
          "annotationdefaults": {
           "arrowcolor": "#2a3f5f",
           "arrowhead": 0,
           "arrowwidth": 1
          },
          "autotypenumbers": "strict",
          "coloraxis": {
           "colorbar": {
            "outlinewidth": 0,
            "ticks": ""
           }
          },
          "colorscale": {
           "diverging": [
            [
             0,
             "#8e0152"
            ],
            [
             0.1,
             "#c51b7d"
            ],
            [
             0.2,
             "#de77ae"
            ],
            [
             0.3,
             "#f1b6da"
            ],
            [
             0.4,
             "#fde0ef"
            ],
            [
             0.5,
             "#f7f7f7"
            ],
            [
             0.6,
             "#e6f5d0"
            ],
            [
             0.7,
             "#b8e186"
            ],
            [
             0.8,
             "#7fbc41"
            ],
            [
             0.9,
             "#4d9221"
            ],
            [
             1,
             "#276419"
            ]
           ],
           "sequential": [
            [
             0,
             "#0d0887"
            ],
            [
             0.1111111111111111,
             "#46039f"
            ],
            [
             0.2222222222222222,
             "#7201a8"
            ],
            [
             0.3333333333333333,
             "#9c179e"
            ],
            [
             0.4444444444444444,
             "#bd3786"
            ],
            [
             0.5555555555555556,
             "#d8576b"
            ],
            [
             0.6666666666666666,
             "#ed7953"
            ],
            [
             0.7777777777777778,
             "#fb9f3a"
            ],
            [
             0.8888888888888888,
             "#fdca26"
            ],
            [
             1,
             "#f0f921"
            ]
           ],
           "sequentialminus": [
            [
             0,
             "#0d0887"
            ],
            [
             0.1111111111111111,
             "#46039f"
            ],
            [
             0.2222222222222222,
             "#7201a8"
            ],
            [
             0.3333333333333333,
             "#9c179e"
            ],
            [
             0.4444444444444444,
             "#bd3786"
            ],
            [
             0.5555555555555556,
             "#d8576b"
            ],
            [
             0.6666666666666666,
             "#ed7953"
            ],
            [
             0.7777777777777778,
             "#fb9f3a"
            ],
            [
             0.8888888888888888,
             "#fdca26"
            ],
            [
             1,
             "#f0f921"
            ]
           ]
          },
          "colorway": [
           "rgb(3, 5, 18)",
           "rgb(25, 25, 51)",
           "rgb(44, 42, 87)",
           "rgb(58, 60, 125)",
           "rgb(62, 83, 160)",
           "rgb(62, 109, 178)",
           "rgb(72, 134, 187)",
           "rgb(89, 159, 196)",
           "rgb(114, 184, 205)",
           "rgb(149, 207, 216)",
           "rgb(192, 229, 232)",
           "rgb(234, 252, 253)"
          ],
          "font": {
           "color": "#2a3f5f"
          },
          "geo": {
           "bgcolor": "white",
           "lakecolor": "white",
           "landcolor": "white",
           "showlakes": true,
           "showland": true,
           "subunitcolor": "#C8D4E3"
          },
          "hoverlabel": {
           "align": "left"
          },
          "hovermode": "closest",
          "mapbox": {
           "style": "light"
          },
          "margin": {
           "b": 10,
           "l": 10,
           "r": 10,
           "t": 80
          },
          "paper_bgcolor": "white",
          "plot_bgcolor": "rgb(243,250,253)",
          "polar": {
           "angularaxis": {
            "gridcolor": "#EBF0F8",
            "linecolor": "#EBF0F8",
            "ticks": ""
           },
           "bgcolor": "white",
           "radialaxis": {
            "gridcolor": "#EBF0F8",
            "linecolor": "#EBF0F8",
            "ticks": ""
           }
          },
          "scene": {
           "xaxis": {
            "backgroundcolor": "white",
            "gridcolor": "#DFE8F3",
            "gridwidth": 2,
            "linecolor": "#EBF0F8",
            "showbackground": true,
            "ticks": "",
            "zerolinecolor": "#EBF0F8"
           },
           "yaxis": {
            "backgroundcolor": "white",
            "gridcolor": "#DFE8F3",
            "gridwidth": 2,
            "linecolor": "#EBF0F8",
            "showbackground": true,
            "ticks": "",
            "zerolinecolor": "#EBF0F8"
           },
           "zaxis": {
            "backgroundcolor": "white",
            "gridcolor": "#DFE8F3",
            "gridwidth": 2,
            "linecolor": "#EBF0F8",
            "showbackground": true,
            "ticks": "",
            "zerolinecolor": "#EBF0F8"
           }
          },
          "shapedefaults": {
           "line": {
            "color": "#2a3f5f"
           }
          },
          "ternary": {
           "aaxis": {
            "gridcolor": "#DFE8F3",
            "linecolor": "#A2B1C6",
            "ticks": ""
           },
           "baxis": {
            "gridcolor": "#DFE8F3",
            "linecolor": "#A2B1C6",
            "ticks": ""
           },
           "bgcolor": "white",
           "caxis": {
            "gridcolor": "#DFE8F3",
            "linecolor": "#A2B1C6",
            "ticks": ""
           }
          },
          "title": {
           "font": {
            "color": "rgb(42,72,108)",
            "family": "Arial Black",
            "size": 14
           },
           "x": 0.05
          },
          "xaxis": {
           "automargin": true,
           "gridcolor": "#EBF0F8",
           "linecolor": "#EBF0F8",
           "tickfont": {
            "color": "rgb(42,72,108)",
            "family": "Arial Black, monospace",
            "size": 9
           },
           "ticks": "",
           "title": {
            "font": {
             "color": "rgb(42,72,108)",
             "family": "Arial Black, monospace",
             "size": 11
            },
            "standoff": 15
           },
           "zerolinecolor": "#EBF0F8",
           "zerolinewidth": 2
          },
          "yaxis": {
           "automargin": true,
           "gridcolor": "#EBF0F8",
           "linecolor": "#EBF0F8",
           "range": [
            0,
            1
           ],
           "ticks": "",
           "title": {
            "font": {
             "color": "rgb(42,72,108)",
             "family": "Arial Black, monospace",
             "size": 11
            },
            "standoff": 15
           },
           "zerolinecolor": "#EBF0F8",
           "zerolinewidth": 2
          }
         }
        },
        "title": {
         "text": "Top 5 Most Common Loan Purposes"
        },
        "width": 600,
        "xaxis": {
         "anchor": "y",
         "categoryarray": [
          "debt_consolidation",
          "credit_card",
          "home_improvement",
          "other",
          "major_purchase"
         ],
         "categoryorder": "array",
         "domain": [
          0,
          1
         ],
         "title": {
          "text": "Loan Purpose"
         }
        },
        "yaxis": {
         "anchor": "x",
         "domain": [
          0,
          1
         ],
         "range": [
          0,
          1
         ],
         "tickformat": ".0%",
         "title": {
          "text": "Percentage [%]"
         }
        }
       }
      }
     },
     "metadata": {},
     "output_type": "display_data"
    }
   ],
   "source": [
    "fig=unvariate_bar_plot(loans_df, \n",
    "                    col_name='purpose',\n",
    "                    title='Top 5 Most Common Loan Purposes',\n",
    "                    xlabel='Loan Purpose',\n",
    "                    )\n",
    "fig.write_image(\"images/loans_purposes.png\")\n",
    "fig.show()"
   ]
  },
  {
   "cell_type": "markdown",
   "metadata": {},
   "source": [
    "#### 3.1.2 Loans Grades"
   ]
  },
  {
   "cell_type": "code",
   "execution_count": null,
   "metadata": {},
   "outputs": [],
   "source": [
    "fig = unvariate_bar_plot(loans_df, \n",
    "                   col_name='grade', \n",
    "                   title='Loans Grades',\n",
    "                   xlabel='Grade',\n",
    "                   limit=None,)\n",
    "\n",
    "\n",
    "fig.write_image('images/grades.png')\n",
    "fig.show()\n"
   ]
  },
  {
   "cell_type": "markdown",
   "metadata": {},
   "source": [
    "### 3.1.3 Loans Interest Rate Distribution and Drift"
   ]
  },
  {
   "cell_type": "code",
   "execution_count": null,
   "metadata": {},
   "outputs": [],
   "source": [
    "# Function to calculate KDE for plotting\n",
    "def calculate_kde(data, points=100):\n",
    "    kde = gaussian_kde(data)\n",
    "    x = np.linspace(1, 25, points) \n",
    "    y = kde(x)\n",
    "    return x, y\n",
    "\n",
    "int_prime_before = prime_df[(prime_df['last_credit_pull_d_year'] <= 2009)]['int_rate']\n",
    "int_risky_before = subprime_df[(subprime_df['last_credit_pull_d_year'] <= 2009)]['int_rate']\n",
    "int_prime_after = prime_df[(prime_df['last_credit_pull_d_year'] > 2009)]['int_rate']\n",
    "int_risky_after = subprime_df[(subprime_df['last_credit_pull_d_year'] > 2009)]['int_rate']\n",
    "\n",
    "\n",
    "# Calculate KDEs for each dataset\n",
    "prime_before_x, prime_before_y = calculate_kde(int_prime_before)\n",
    "subprime_before_x, subprime_before_y = calculate_kde(int_risky_before)\n",
    "prime_after_x, prime_after_y = calculate_kde(int_prime_after)\n",
    "subprime_after_x, subprime_after_y = calculate_kde(int_risky_after)\n",
    "\n",
    "# Create the figure with two subplots\n",
    "fig = make_subplots(\n",
    "    rows=1, cols=2,\n",
    "    subplot_titles=(\"2008 Interest Rate Distributions (KDE)\", \"Post-Crisis Interest Rate Distributions (KDE)\"),\n",
    ")\n",
    "\n",
    "# Left Chart: Interest rate KDE for 2008 data (before crisis)\n",
    "fig.add_trace(go.Scatter(\n",
    "    x=prime_before_x, \n",
    "    y=prime_before_y, \n",
    "    mode='lines', \n",
    "    name='Prime', \n",
    "    line=dict(color='rgb(4,217,57)', width=2),\n",
    "), row=1, col=1)\n",
    "\n",
    "fig.add_trace(go.Scatter(\n",
    "    x=subprime_before_x, \n",
    "    y=subprime_before_y, \n",
    "    mode='lines', \n",
    "    name='Risky', \n",
    "    line=dict(color='rgb(255,72,88)', width=2),\n",
    "), row=1, col=1)\n",
    "\n",
    "# Right Chart: Interest rate KDE post-crisis\n",
    "fig.add_trace(go.Scatter(\n",
    "    x=prime_after_x, \n",
    "    y=prime_after_y, \n",
    "    mode='lines', \n",
    "    name='Prime', \n",
    "    line=dict(color='rgb(4,217,57)', width=2),\n",
    "    showlegend=False,\n",
    "), row=1, col=2)\n",
    "\n",
    "fig.add_trace(go.Scatter(\n",
    "    x=subprime_after_x, \n",
    "    y=subprime_after_y, \n",
    "    mode='lines', \n",
    "    name='Risky', \n",
    "    line=dict(color='rgb(255,72,88)', width=2),\n",
    "    showlegend=False,\n",
    "), row=1, col=2)\n",
    "\n",
    "# Add vertical lines for the mean interest rates\n",
    "fig.add_trace(go.Scatter(\n",
    "    x=[int_prime_before.mean(), int_prime_before.mean()],\n",
    "    y=[0, 1], \n",
    "    mode='lines',\n",
    "    line=dict(color='rgba(4,217,57, 0.4)', dash='dash'),\n",
    "    showlegend=False,\n",
    "), row=1, col=1)\n",
    "\n",
    "fig.add_trace(go.Scatter(\n",
    "    x=[int_risky_before.mean(), int_risky_before.mean()],\n",
    "    y=[0, 1],\n",
    "    mode='lines',\n",
    "    line=dict(color='rgba(255,72,88, 0.4)', dash='dash'),\n",
    "    showlegend=False,\n",
    "), row=1, col=1)\n",
    "\n",
    "fig.add_trace(go.Scatter(\n",
    "    x=[int_prime_after.mean(), int_prime_after.mean()],\n",
    "    y=[0, 1],\n",
    "    mode='lines',\n",
    "    line=dict(color='rgba(4,217,57, 0.4)', dash='dash'),\n",
    "    showlegend=False,\n",
    "), row=1, col=2)\n",
    "\n",
    "fig.add_trace(go.Scatter(\n",
    "    x=[int_risky_after.mean(), int_risky_after.mean()],\n",
    "    y=[0, 1],\n",
    "    mode='lines',\n",
    "    line=dict(color='rgba(255,72,88, 0.4)', dash='dash'),\n",
    "    showlegend=False,\n",
    "), row=1, col=2)\n",
    "\n",
    "# Update layout with synchronized axes and labels\n",
    "fig.update_layout(\n",
    "    title=\"Interest Rate Distributions (KDE) Before and After the Crisis\",\n",
    "    xaxis=dict(title=\"Interest Rate (%)\", range=[1, 25]),  # Set range and label for left chart\n",
    "    xaxis2=dict(title=\"Interest Rate (%)\", range=[1, 25]),  # Set range and label for right chart\n",
    "    yaxis=dict(title=\"Density\", range=[0, 0.2]),\n",
    "    yaxis2=dict(title=\"Density\", range=[0, 0.2]),\n",
    "    showlegend=True,\n",
    "    height=500,\n",
    "    width=1000,\n",
    "    legend=dict(\n",
    "        x=-0.015, y=1.17, \n",
    "        orientation='h',\n",
    "        traceorder='normal',\n",
    "        xanchor='left',\n",
    "        yanchor='top',\n",
    "        title=''\n",
    "    ),\n",
    "    margin=dict(t=120)\n",
    ")\n",
    "\n",
    "    \n",
    "fig.write_image(\"images/interest_dist.png\")\n",
    "# Show the figure\n",
    "fig.show()\n"
   ]
  },
  {
   "cell_type": "markdown",
   "metadata": {},
   "source": [
    "### 3.2 Borrower"
   ]
  },
  {
   "cell_type": "markdown",
   "metadata": {},
   "source": [
    "#### 3.2.1 Home Ownership"
   ]
  },
  {
   "cell_type": "code",
   "execution_count": null,
   "metadata": {},
   "outputs": [
    {
     "data": {
      "application/vnd.plotly.v1+json": {
       "config": {
        "plotlyServerURL": "https://plot.ly"
       },
       "data": [
        {
         "alignmentgroup": "True",
         "hovertemplate": "Home Ownership=%{x}<br>Percentage [%]=%{text}<extra></extra>",
         "legendgroup": "MORTGAGE",
         "marker": {
          "color": "rgb(3, 5, 18)",
          "pattern": {
           "shape": ""
          }
         },
         "name": "MORTGAGE",
         "offsetgroup": "MORTGAGE",
         "orientation": "v",
         "showlegend": true,
         "text": [
          0.5058601499083178
         ],
         "textposition": "outside",
         "texttemplate": "%{text:.2%}",
         "type": "bar",
         "width": 0.6,
         "x": [
          "MORTGAGE"
         ],
         "xaxis": "x",
         "y": [
          0.5058601499083178
         ],
         "yaxis": "y"
        },
        {
         "alignmentgroup": "True",
         "hovertemplate": "Home Ownership=%{x}<br>Percentage [%]=%{text}<extra></extra>",
         "legendgroup": "RENT",
         "marker": {
          "color": "rgb(25, 25, 51)",
          "pattern": {
           "shape": ""
          }
         },
         "name": "RENT",
         "offsetgroup": "RENT",
         "orientation": "v",
         "showlegend": true,
         "text": [
          0.4042012932005104
         ],
         "textposition": "outside",
         "texttemplate": "%{text:.2%}",
         "type": "bar",
         "width": 0.6,
         "x": [
          "RENT"
         ],
         "xaxis": "x",
         "y": [
          0.4042012932005104
         ],
         "yaxis": "y"
        },
        {
         "alignmentgroup": "True",
         "hovertemplate": "Home Ownership=%{x}<br>Percentage [%]=%{text}<extra></extra>",
         "legendgroup": "OWN",
         "marker": {
          "color": "rgb(44, 42, 87)",
          "pattern": {
           "shape": ""
          }
         },
         "name": "OWN",
         "offsetgroup": "OWN",
         "orientation": "v",
         "showlegend": true,
         "text": [
          0.0894388624982575
         ],
         "textposition": "outside",
         "texttemplate": "%{text:.2%}",
         "type": "bar",
         "width": 0.6,
         "x": [
          "OWN"
         ],
         "xaxis": "x",
         "y": [
          0.0894388624982575
         ],
         "yaxis": "y"
        }
       ],
       "layout": {
        "barmode": "relative",
        "height": 400,
        "legend": {
         "title": {
          "text": "Home Ownership"
         },
         "tracegroupgap": 0
        },
        "showlegend": false,
        "template": {
         "layout": {
          "annotationdefaults": {
           "arrowcolor": "#2a3f5f",
           "arrowhead": 0,
           "arrowwidth": 1
          },
          "autotypenumbers": "strict",
          "coloraxis": {
           "colorbar": {
            "outlinewidth": 0,
            "ticks": ""
           }
          },
          "colorscale": {
           "diverging": [
            [
             0,
             "#8e0152"
            ],
            [
             0.1,
             "#c51b7d"
            ],
            [
             0.2,
             "#de77ae"
            ],
            [
             0.3,
             "#f1b6da"
            ],
            [
             0.4,
             "#fde0ef"
            ],
            [
             0.5,
             "#f7f7f7"
            ],
            [
             0.6,
             "#e6f5d0"
            ],
            [
             0.7,
             "#b8e186"
            ],
            [
             0.8,
             "#7fbc41"
            ],
            [
             0.9,
             "#4d9221"
            ],
            [
             1,
             "#276419"
            ]
           ],
           "sequential": [
            [
             0,
             "#0d0887"
            ],
            [
             0.1111111111111111,
             "#46039f"
            ],
            [
             0.2222222222222222,
             "#7201a8"
            ],
            [
             0.3333333333333333,
             "#9c179e"
            ],
            [
             0.4444444444444444,
             "#bd3786"
            ],
            [
             0.5555555555555556,
             "#d8576b"
            ],
            [
             0.6666666666666666,
             "#ed7953"
            ],
            [
             0.7777777777777778,
             "#fb9f3a"
            ],
            [
             0.8888888888888888,
             "#fdca26"
            ],
            [
             1,
             "#f0f921"
            ]
           ],
           "sequentialminus": [
            [
             0,
             "#0d0887"
            ],
            [
             0.1111111111111111,
             "#46039f"
            ],
            [
             0.2222222222222222,
             "#7201a8"
            ],
            [
             0.3333333333333333,
             "#9c179e"
            ],
            [
             0.4444444444444444,
             "#bd3786"
            ],
            [
             0.5555555555555556,
             "#d8576b"
            ],
            [
             0.6666666666666666,
             "#ed7953"
            ],
            [
             0.7777777777777778,
             "#fb9f3a"
            ],
            [
             0.8888888888888888,
             "#fdca26"
            ],
            [
             1,
             "#f0f921"
            ]
           ]
          },
          "colorway": [
           "rgb(3, 5, 18)",
           "rgb(25, 25, 51)",
           "rgb(44, 42, 87)",
           "rgb(58, 60, 125)",
           "rgb(62, 83, 160)",
           "rgb(62, 109, 178)",
           "rgb(72, 134, 187)",
           "rgb(89, 159, 196)",
           "rgb(114, 184, 205)",
           "rgb(149, 207, 216)",
           "rgb(192, 229, 232)",
           "rgb(234, 252, 253)"
          ],
          "font": {
           "color": "#2a3f5f"
          },
          "geo": {
           "bgcolor": "white",
           "lakecolor": "white",
           "landcolor": "white",
           "showlakes": true,
           "showland": true,
           "subunitcolor": "#C8D4E3"
          },
          "hoverlabel": {
           "align": "left"
          },
          "hovermode": "closest",
          "mapbox": {
           "style": "light"
          },
          "margin": {
           "b": 10,
           "l": 10,
           "r": 10,
           "t": 80
          },
          "paper_bgcolor": "white",
          "plot_bgcolor": "rgb(243,250,253)",
          "polar": {
           "angularaxis": {
            "gridcolor": "#EBF0F8",
            "linecolor": "#EBF0F8",
            "ticks": ""
           },
           "bgcolor": "white",
           "radialaxis": {
            "gridcolor": "#EBF0F8",
            "linecolor": "#EBF0F8",
            "ticks": ""
           }
          },
          "scene": {
           "xaxis": {
            "backgroundcolor": "white",
            "gridcolor": "#DFE8F3",
            "gridwidth": 2,
            "linecolor": "#EBF0F8",
            "showbackground": true,
            "ticks": "",
            "zerolinecolor": "#EBF0F8"
           },
           "yaxis": {
            "backgroundcolor": "white",
            "gridcolor": "#DFE8F3",
            "gridwidth": 2,
            "linecolor": "#EBF0F8",
            "showbackground": true,
            "ticks": "",
            "zerolinecolor": "#EBF0F8"
           },
           "zaxis": {
            "backgroundcolor": "white",
            "gridcolor": "#DFE8F3",
            "gridwidth": 2,
            "linecolor": "#EBF0F8",
            "showbackground": true,
            "ticks": "",
            "zerolinecolor": "#EBF0F8"
           }
          },
          "shapedefaults": {
           "line": {
            "color": "#2a3f5f"
           }
          },
          "ternary": {
           "aaxis": {
            "gridcolor": "#DFE8F3",
            "linecolor": "#A2B1C6",
            "ticks": ""
           },
           "baxis": {
            "gridcolor": "#DFE8F3",
            "linecolor": "#A2B1C6",
            "ticks": ""
           },
           "bgcolor": "white",
           "caxis": {
            "gridcolor": "#DFE8F3",
            "linecolor": "#A2B1C6",
            "ticks": ""
           }
          },
          "title": {
           "font": {
            "color": "rgb(42,72,108)",
            "family": "Arial Black",
            "size": 14
           },
           "x": 0.05
          },
          "xaxis": {
           "automargin": true,
           "gridcolor": "#EBF0F8",
           "linecolor": "#EBF0F8",
           "tickfont": {
            "color": "rgb(42,72,108)",
            "family": "Arial Black, monospace",
            "size": 9
           },
           "ticks": "",
           "title": {
            "font": {
             "color": "rgb(42,72,108)",
             "family": "Arial Black, monospace",
             "size": 11
            },
            "standoff": 15
           },
           "zerolinecolor": "#EBF0F8",
           "zerolinewidth": 2
          },
          "yaxis": {
           "automargin": true,
           "gridcolor": "#EBF0F8",
           "linecolor": "#EBF0F8",
           "range": [
            0,
            1
           ],
           "ticks": "",
           "title": {
            "font": {
             "color": "rgb(42,72,108)",
             "family": "Arial Black, monospace",
             "size": 11
            },
            "standoff": 15
           },
           "zerolinecolor": "#EBF0F8",
           "zerolinewidth": 2
          }
         }
        },
        "title": {
         "text": "Borrowers Home Ownership"
        },
        "width": 600,
        "xaxis": {
         "anchor": "y",
         "categoryarray": [
          "MORTGAGE",
          "RENT",
          "OWN"
         ],
         "categoryorder": "array",
         "domain": [
          0,
          1
         ],
         "title": {
          "text": "Home Ownership"
         }
        },
        "yaxis": {
         "anchor": "x",
         "domain": [
          0,
          1
         ],
         "range": [
          0,
          1
         ],
         "tickformat": ".0%",
         "title": {
          "text": "Percentage [%]"
         }
        }
       }
      }
     },
     "metadata": {},
     "output_type": "display_data"
    }
   ],
   "source": [
    "fig=unvariate_bar_plot(loans_df, \n",
    "                    col_name='home_ownership',\n",
    "                    title='Borrowers Home Ownership',\n",
    "                    xlabel='Home Ownership',\n",
    "                    limit=3,\n",
    "                    \n",
    "                    )\n",
    "fig.write_image(\"images/home_ownership.png\")\n",
    "fig.show()"
   ]
  },
  {
   "cell_type": "markdown",
   "metadata": {},
   "source": [
    "## 4. Loan Sensitivity"
   ]
  },
  {
   "cell_type": "markdown",
   "metadata": {},
   "source": [
    "### 4.1 Default Rate by Grade"
   ]
  },
  {
   "cell_type": "code",
   "execution_count": null,
   "metadata": {},
   "outputs": [
    {
     "data": {
      "application/vnd.plotly.v1+json": {
       "config": {
        "plotlyServerURL": "https://plot.ly"
       },
       "data": [
        {
         "alignmentgroup": "True",
         "hovertemplate": "Grade=%{x}<br>Default Rate [%]=%{text}<extra></extra>",
         "legendgroup": "A",
         "marker": {
          "color": "rgb(3, 5, 18)",
          "pattern": {
           "shape": ""
          }
         },
         "name": "A",
         "offsetgroup": "A",
         "orientation": "v",
         "showlegend": true,
         "text": [
          0.04302296071700482
         ],
         "textposition": "outside",
         "texttemplate": "%{text:.0%}",
         "type": "bar",
         "width": 0.6,
         "x": [
          "A"
         ],
         "xaxis": "x",
         "y": [
          0.04302296071700482
         ],
         "yaxis": "y"
        },
        {
         "alignmentgroup": "True",
         "hovertemplate": "Grade=%{x}<br>Default Rate [%]=%{text}<extra></extra>",
         "legendgroup": "B",
         "marker": {
          "color": "rgb(25, 25, 51)",
          "pattern": {
           "shape": ""
          }
         },
         "name": "B",
         "offsetgroup": "B",
         "orientation": "v",
         "showlegend": true,
         "text": [
          0.08732993010976492
         ],
         "textposition": "outside",
         "texttemplate": "%{text:.0%}",
         "type": "bar",
         "width": 0.6,
         "x": [
          "B"
         ],
         "xaxis": "x",
         "y": [
          0.08732993010976492
         ],
         "yaxis": "y"
        },
        {
         "alignmentgroup": "True",
         "hovertemplate": "Grade=%{x}<br>Default Rate [%]=%{text}<extra></extra>",
         "legendgroup": "C",
         "marker": {
          "color": "rgb(44, 42, 87)",
          "pattern": {
           "shape": ""
          }
         },
         "name": "C",
         "offsetgroup": "C",
         "orientation": "v",
         "showlegend": true,
         "text": [
          0.12869034982002187
         ],
         "textposition": "outside",
         "texttemplate": "%{text:.0%}",
         "type": "bar",
         "width": 0.6,
         "x": [
          "C"
         ],
         "xaxis": "x",
         "y": [
          0.12869034982002187
         ],
         "yaxis": "y"
        },
        {
         "alignmentgroup": "True",
         "hovertemplate": "Grade=%{x}<br>Default Rate [%]=%{text}<extra></extra>",
         "legendgroup": "D",
         "marker": {
          "color": "rgb(58, 60, 125)",
          "pattern": {
           "shape": ""
          }
         },
         "name": "D",
         "offsetgroup": "D",
         "orientation": "v",
         "showlegend": true,
         "text": [
          0.1734861096660077
         ],
         "textposition": "outside",
         "texttemplate": "%{text:.0%}",
         "type": "bar",
         "width": 0.6,
         "x": [
          "D"
         ],
         "xaxis": "x",
         "y": [
          0.1734861096660077
         ],
         "yaxis": "y"
        },
        {
         "alignmentgroup": "True",
         "hovertemplate": "Grade=%{x}<br>Default Rate [%]=%{text}<extra></extra>",
         "legendgroup": "E",
         "marker": {
          "color": "rgb(62, 83, 160)",
          "pattern": {
           "shape": ""
          }
         },
         "name": "E",
         "offsetgroup": "E",
         "orientation": "v",
         "showlegend": true,
         "text": [
          0.22258578739827167
         ],
         "textposition": "outside",
         "texttemplate": "%{text:.0%}",
         "type": "bar",
         "width": 0.6,
         "x": [
          "E"
         ],
         "xaxis": "x",
         "y": [
          0.22258578739827167
         ],
         "yaxis": "y"
        },
        {
         "alignmentgroup": "True",
         "hovertemplate": "Grade=%{x}<br>Default Rate [%]=%{text}<extra></extra>",
         "legendgroup": "F",
         "marker": {
          "color": "rgb(62, 109, 178)",
          "pattern": {
           "shape": ""
          }
         },
         "name": "F",
         "offsetgroup": "F",
         "orientation": "v",
         "showlegend": true,
         "text": [
          0.2725073701715927
         ],
         "textposition": "outside",
         "texttemplate": "%{text:.0%}",
         "type": "bar",
         "width": 0.6,
         "x": [
          "F"
         ],
         "xaxis": "x",
         "y": [
          0.2725073701715927
         ],
         "yaxis": "y"
        },
        {
         "alignmentgroup": "True",
         "hovertemplate": "Grade=%{x}<br>Default Rate [%]=%{text}<extra></extra>",
         "legendgroup": "G",
         "marker": {
          "color": "rgb(72, 134, 187)",
          "pattern": {
           "shape": ""
          }
         },
         "name": "G",
         "offsetgroup": "G",
         "orientation": "v",
         "showlegend": true,
         "text": [
          0.3353401565322095
         ],
         "textposition": "outside",
         "texttemplate": "%{text:.0%}",
         "type": "bar",
         "width": 0.6,
         "x": [
          "G"
         ],
         "xaxis": "x",
         "y": [
          0.3353401565322095
         ],
         "yaxis": "y"
        }
       ],
       "layout": {
        "barmode": "relative",
        "coloraxis": {
         "showscale": false
        },
        "height": 400,
        "legend": {
         "title": {
          "text": "Grade"
         },
         "tracegroupgap": 0
        },
        "showlegend": false,
        "template": {
         "layout": {
          "annotationdefaults": {
           "arrowcolor": "#2a3f5f",
           "arrowhead": 0,
           "arrowwidth": 1
          },
          "autotypenumbers": "strict",
          "coloraxis": {
           "colorbar": {
            "outlinewidth": 0,
            "ticks": ""
           }
          },
          "colorscale": {
           "diverging": [
            [
             0,
             "#8e0152"
            ],
            [
             0.1,
             "#c51b7d"
            ],
            [
             0.2,
             "#de77ae"
            ],
            [
             0.3,
             "#f1b6da"
            ],
            [
             0.4,
             "#fde0ef"
            ],
            [
             0.5,
             "#f7f7f7"
            ],
            [
             0.6,
             "#e6f5d0"
            ],
            [
             0.7,
             "#b8e186"
            ],
            [
             0.8,
             "#7fbc41"
            ],
            [
             0.9,
             "#4d9221"
            ],
            [
             1,
             "#276419"
            ]
           ],
           "sequential": [
            [
             0,
             "#0d0887"
            ],
            [
             0.1111111111111111,
             "#46039f"
            ],
            [
             0.2222222222222222,
             "#7201a8"
            ],
            [
             0.3333333333333333,
             "#9c179e"
            ],
            [
             0.4444444444444444,
             "#bd3786"
            ],
            [
             0.5555555555555556,
             "#d8576b"
            ],
            [
             0.6666666666666666,
             "#ed7953"
            ],
            [
             0.7777777777777778,
             "#fb9f3a"
            ],
            [
             0.8888888888888888,
             "#fdca26"
            ],
            [
             1,
             "#f0f921"
            ]
           ],
           "sequentialminus": [
            [
             0,
             "#0d0887"
            ],
            [
             0.1111111111111111,
             "#46039f"
            ],
            [
             0.2222222222222222,
             "#7201a8"
            ],
            [
             0.3333333333333333,
             "#9c179e"
            ],
            [
             0.4444444444444444,
             "#bd3786"
            ],
            [
             0.5555555555555556,
             "#d8576b"
            ],
            [
             0.6666666666666666,
             "#ed7953"
            ],
            [
             0.7777777777777778,
             "#fb9f3a"
            ],
            [
             0.8888888888888888,
             "#fdca26"
            ],
            [
             1,
             "#f0f921"
            ]
           ]
          },
          "colorway": [
           "rgb(3, 5, 18)",
           "rgb(25, 25, 51)",
           "rgb(44, 42, 87)",
           "rgb(58, 60, 125)",
           "rgb(62, 83, 160)",
           "rgb(62, 109, 178)",
           "rgb(72, 134, 187)",
           "rgb(89, 159, 196)",
           "rgb(114, 184, 205)",
           "rgb(149, 207, 216)",
           "rgb(192, 229, 232)",
           "rgb(234, 252, 253)"
          ],
          "font": {
           "color": "#2a3f5f"
          },
          "geo": {
           "bgcolor": "white",
           "lakecolor": "white",
           "landcolor": "white",
           "showlakes": true,
           "showland": true,
           "subunitcolor": "#C8D4E3"
          },
          "hoverlabel": {
           "align": "left"
          },
          "hovermode": "closest",
          "mapbox": {
           "style": "light"
          },
          "margin": {
           "b": 10,
           "l": 10,
           "r": 10,
           "t": 80
          },
          "paper_bgcolor": "white",
          "plot_bgcolor": "rgb(243,250,253)",
          "polar": {
           "angularaxis": {
            "gridcolor": "#EBF0F8",
            "linecolor": "#EBF0F8",
            "ticks": ""
           },
           "bgcolor": "white",
           "radialaxis": {
            "gridcolor": "#EBF0F8",
            "linecolor": "#EBF0F8",
            "ticks": ""
           }
          },
          "scene": {
           "xaxis": {
            "backgroundcolor": "white",
            "gridcolor": "#DFE8F3",
            "gridwidth": 2,
            "linecolor": "#EBF0F8",
            "showbackground": true,
            "ticks": "",
            "zerolinecolor": "#EBF0F8"
           },
           "yaxis": {
            "backgroundcolor": "white",
            "gridcolor": "#DFE8F3",
            "gridwidth": 2,
            "linecolor": "#EBF0F8",
            "showbackground": true,
            "ticks": "",
            "zerolinecolor": "#EBF0F8"
           },
           "zaxis": {
            "backgroundcolor": "white",
            "gridcolor": "#DFE8F3",
            "gridwidth": 2,
            "linecolor": "#EBF0F8",
            "showbackground": true,
            "ticks": "",
            "zerolinecolor": "#EBF0F8"
           }
          },
          "shapedefaults": {
           "line": {
            "color": "#2a3f5f"
           }
          },
          "ternary": {
           "aaxis": {
            "gridcolor": "#DFE8F3",
            "linecolor": "#A2B1C6",
            "ticks": ""
           },
           "baxis": {
            "gridcolor": "#DFE8F3",
            "linecolor": "#A2B1C6",
            "ticks": ""
           },
           "bgcolor": "white",
           "caxis": {
            "gridcolor": "#DFE8F3",
            "linecolor": "#A2B1C6",
            "ticks": ""
           }
          },
          "title": {
           "font": {
            "color": "rgb(42,72,108)",
            "family": "Arial Black",
            "size": 14
           },
           "x": 0.05
          },
          "xaxis": {
           "automargin": true,
           "gridcolor": "#EBF0F8",
           "linecolor": "#EBF0F8",
           "tickfont": {
            "color": "rgb(42,72,108)",
            "family": "Arial Black, monospace",
            "size": 9
           },
           "ticks": "",
           "title": {
            "font": {
             "color": "rgb(42,72,108)",
             "family": "Arial Black, monospace",
             "size": 11
            },
            "standoff": 15
           },
           "zerolinecolor": "#EBF0F8",
           "zerolinewidth": 2
          },
          "yaxis": {
           "automargin": true,
           "gridcolor": "#EBF0F8",
           "linecolor": "#EBF0F8",
           "range": [
            0,
            1
           ],
           "ticks": "",
           "title": {
            "font": {
             "color": "rgb(42,72,108)",
             "family": "Arial Black, monospace",
             "size": 11
            },
            "standoff": 15
           },
           "zerolinecolor": "#EBF0F8",
           "zerolinewidth": 2
          }
         }
        },
        "title": {
         "text": "Default rate by Grade"
        },
        "uniformtext": {
         "minsize": 8
        },
        "width": 600,
        "xaxis": {
         "anchor": "y",
         "categoryarray": [
          "A",
          "B",
          "C",
          "D",
          "E",
          "F",
          "G"
         ],
         "categoryorder": "array",
         "domain": [
          0,
          1
         ],
         "title": {
          "text": "Grade"
         }
        },
        "yaxis": {
         "anchor": "x",
         "domain": [
          0,
          1
         ],
         "range": [
          0,
          0.5
         ],
         "tickformat": ".0%",
         "title": {
          "text": "Default Rate [%]"
         }
        }
       }
      }
     },
     "metadata": {},
     "output_type": "display_data"
    }
   ],
   "source": [
    "grade_default_counts = loans_df.groupby(['grade', 'risky']).size().reset_index(name='count')\n",
    "\n",
    "grade_default_pivot = grade_default_counts.pivot_table(\n",
    "    index='grade',\n",
    "    columns='risky',\n",
    "    values='count',\n",
    "    aggfunc='sum',\n",
    "    fill_value=0\n",
    "    )\n",
    "\n",
    "fig = default_rate_bar_plot(\n",
    "    df=grade_default_pivot,\n",
    "    xlabel='Grade',\n",
    "    title='Default rate by Grade',\n",
    "    yaxis_range=[0, 0.5],\n",
    ")\n",
    "\n",
    "fig.write_image(\"images/default_by_grade.png\")\n",
    "fig.show()\n"
   ]
  },
  {
   "cell_type": "markdown",
   "metadata": {},
   "source": [
    "### 4.2 Default Rate by Annual Income "
   ]
  },
  {
   "cell_type": "code",
   "execution_count": null,
   "metadata": {},
   "outputs": [
    {
     "name": "stderr",
     "output_type": "stream",
     "text": [
      "C:\\Users\\rafae\\AppData\\Local\\Temp\\ipykernel_26088\\3024893751.py:10: FutureWarning:\n",
      "\n",
      "The default of observed=False is deprecated and will be changed to True in a future version of pandas. Pass observed=False to retain current behavior or observed=True to adopt the future default and silence this warning.\n",
      "\n"
     ]
    },
    {
     "data": {
      "application/vnd.plotly.v1+json": {
       "config": {
        "plotlyServerURL": "https://plot.ly"
       },
       "data": [
        {
         "alignmentgroup": "True",
         "hovertemplate": "Income=%{x}<br>Default Rate [%]=%{text}<extra></extra>",
         "legendgroup": "$0 - $30k",
         "marker": {
          "color": "rgb(3, 5, 18)",
          "pattern": {
           "shape": ""
          }
         },
         "name": "$0 - $30k",
         "offsetgroup": "$0 - $30k",
         "orientation": "v",
         "showlegend": true,
         "text": [
          0.16583114959553377
         ],
         "textposition": "outside",
         "texttemplate": "%{text:.0%}",
         "type": "bar",
         "width": 0.6,
         "x": [
          "$0 - $30k"
         ],
         "xaxis": "x",
         "y": [
          0.16583114959553377
         ],
         "yaxis": "y"
        },
        {
         "alignmentgroup": "True",
         "hovertemplate": "Income=%{x}<br>Default Rate [%]=%{text}<extra></extra>",
         "legendgroup": "$30k - $60k",
         "marker": {
          "color": "rgb(25, 25, 51)",
          "pattern": {
           "shape": ""
          }
         },
         "name": "$30k - $60k",
         "offsetgroup": "$30k - $60k",
         "orientation": "v",
         "showlegend": true,
         "text": [
          0.13960374575007534
         ],
         "textposition": "outside",
         "texttemplate": "%{text:.0%}",
         "type": "bar",
         "width": 0.6,
         "x": [
          "$30k - $60k"
         ],
         "xaxis": "x",
         "y": [
          0.13960374575007534
         ],
         "yaxis": "y"
        },
        {
         "alignmentgroup": "True",
         "hovertemplate": "Income=%{x}<br>Default Rate [%]=%{text}<extra></extra>",
         "legendgroup": "$60k - $90k",
         "marker": {
          "color": "rgb(44, 42, 87)",
          "pattern": {
           "shape": ""
          }
         },
         "name": "$60k - $90k",
         "offsetgroup": "$60k - $90k",
         "orientation": "v",
         "showlegend": true,
         "text": [
          0.11228441465870094
         ],
         "textposition": "outside",
         "texttemplate": "%{text:.0%}",
         "type": "bar",
         "width": 0.6,
         "x": [
          "$60k - $90k"
         ],
         "xaxis": "x",
         "y": [
          0.11228441465870094
         ],
         "yaxis": "y"
        },
        {
         "alignmentgroup": "True",
         "hovertemplate": "Income=%{x}<br>Default Rate [%]=%{text}<extra></extra>",
         "legendgroup": "$90k - $120k",
         "marker": {
          "color": "rgb(58, 60, 125)",
          "pattern": {
           "shape": ""
          }
         },
         "name": "$90k - $120k",
         "offsetgroup": "$90k - $120k",
         "orientation": "v",
         "showlegend": true,
         "text": [
          0.09629182701715479
         ],
         "textposition": "outside",
         "texttemplate": "%{text:.0%}",
         "type": "bar",
         "width": 0.6,
         "x": [
          "$90k - $120k"
         ],
         "xaxis": "x",
         "y": [
          0.09629182701715479
         ],
         "yaxis": "y"
        },
        {
         "alignmentgroup": "True",
         "hovertemplate": "Income=%{x}<br>Default Rate [%]=%{text}<extra></extra>",
         "legendgroup": ">$120k",
         "marker": {
          "color": "rgb(62, 83, 160)",
          "pattern": {
           "shape": ""
          }
         },
         "name": ">$120k",
         "offsetgroup": ">$120k",
         "orientation": "v",
         "showlegend": true,
         "text": [
          0.08751259939522903
         ],
         "textposition": "outside",
         "texttemplate": "%{text:.0%}",
         "type": "bar",
         "width": 0.6,
         "x": [
          ">$120k"
         ],
         "xaxis": "x",
         "y": [
          0.08751259939522903
         ],
         "yaxis": "y"
        }
       ],
       "layout": {
        "barmode": "relative",
        "coloraxis": {
         "showscale": false
        },
        "height": 400,
        "legend": {
         "title": {
          "text": "Income"
         },
         "tracegroupgap": 0
        },
        "showlegend": false,
        "template": {
         "layout": {
          "annotationdefaults": {
           "arrowcolor": "#2a3f5f",
           "arrowhead": 0,
           "arrowwidth": 1
          },
          "autotypenumbers": "strict",
          "coloraxis": {
           "colorbar": {
            "outlinewidth": 0,
            "ticks": ""
           }
          },
          "colorscale": {
           "diverging": [
            [
             0,
             "#8e0152"
            ],
            [
             0.1,
             "#c51b7d"
            ],
            [
             0.2,
             "#de77ae"
            ],
            [
             0.3,
             "#f1b6da"
            ],
            [
             0.4,
             "#fde0ef"
            ],
            [
             0.5,
             "#f7f7f7"
            ],
            [
             0.6,
             "#e6f5d0"
            ],
            [
             0.7,
             "#b8e186"
            ],
            [
             0.8,
             "#7fbc41"
            ],
            [
             0.9,
             "#4d9221"
            ],
            [
             1,
             "#276419"
            ]
           ],
           "sequential": [
            [
             0,
             "#0d0887"
            ],
            [
             0.1111111111111111,
             "#46039f"
            ],
            [
             0.2222222222222222,
             "#7201a8"
            ],
            [
             0.3333333333333333,
             "#9c179e"
            ],
            [
             0.4444444444444444,
             "#bd3786"
            ],
            [
             0.5555555555555556,
             "#d8576b"
            ],
            [
             0.6666666666666666,
             "#ed7953"
            ],
            [
             0.7777777777777778,
             "#fb9f3a"
            ],
            [
             0.8888888888888888,
             "#fdca26"
            ],
            [
             1,
             "#f0f921"
            ]
           ],
           "sequentialminus": [
            [
             0,
             "#0d0887"
            ],
            [
             0.1111111111111111,
             "#46039f"
            ],
            [
             0.2222222222222222,
             "#7201a8"
            ],
            [
             0.3333333333333333,
             "#9c179e"
            ],
            [
             0.4444444444444444,
             "#bd3786"
            ],
            [
             0.5555555555555556,
             "#d8576b"
            ],
            [
             0.6666666666666666,
             "#ed7953"
            ],
            [
             0.7777777777777778,
             "#fb9f3a"
            ],
            [
             0.8888888888888888,
             "#fdca26"
            ],
            [
             1,
             "#f0f921"
            ]
           ]
          },
          "colorway": [
           "rgb(3, 5, 18)",
           "rgb(25, 25, 51)",
           "rgb(44, 42, 87)",
           "rgb(58, 60, 125)",
           "rgb(62, 83, 160)",
           "rgb(62, 109, 178)",
           "rgb(72, 134, 187)",
           "rgb(89, 159, 196)",
           "rgb(114, 184, 205)",
           "rgb(149, 207, 216)",
           "rgb(192, 229, 232)",
           "rgb(234, 252, 253)"
          ],
          "font": {
           "color": "#2a3f5f"
          },
          "geo": {
           "bgcolor": "white",
           "lakecolor": "white",
           "landcolor": "white",
           "showlakes": true,
           "showland": true,
           "subunitcolor": "#C8D4E3"
          },
          "hoverlabel": {
           "align": "left"
          },
          "hovermode": "closest",
          "mapbox": {
           "style": "light"
          },
          "margin": {
           "b": 10,
           "l": 10,
           "r": 10,
           "t": 80
          },
          "paper_bgcolor": "white",
          "plot_bgcolor": "rgb(243,250,253)",
          "polar": {
           "angularaxis": {
            "gridcolor": "#EBF0F8",
            "linecolor": "#EBF0F8",
            "ticks": ""
           },
           "bgcolor": "white",
           "radialaxis": {
            "gridcolor": "#EBF0F8",
            "linecolor": "#EBF0F8",
            "ticks": ""
           }
          },
          "scene": {
           "xaxis": {
            "backgroundcolor": "white",
            "gridcolor": "#DFE8F3",
            "gridwidth": 2,
            "linecolor": "#EBF0F8",
            "showbackground": true,
            "ticks": "",
            "zerolinecolor": "#EBF0F8"
           },
           "yaxis": {
            "backgroundcolor": "white",
            "gridcolor": "#DFE8F3",
            "gridwidth": 2,
            "linecolor": "#EBF0F8",
            "showbackground": true,
            "ticks": "",
            "zerolinecolor": "#EBF0F8"
           },
           "zaxis": {
            "backgroundcolor": "white",
            "gridcolor": "#DFE8F3",
            "gridwidth": 2,
            "linecolor": "#EBF0F8",
            "showbackground": true,
            "ticks": "",
            "zerolinecolor": "#EBF0F8"
           }
          },
          "shapedefaults": {
           "line": {
            "color": "#2a3f5f"
           }
          },
          "ternary": {
           "aaxis": {
            "gridcolor": "#DFE8F3",
            "linecolor": "#A2B1C6",
            "ticks": ""
           },
           "baxis": {
            "gridcolor": "#DFE8F3",
            "linecolor": "#A2B1C6",
            "ticks": ""
           },
           "bgcolor": "white",
           "caxis": {
            "gridcolor": "#DFE8F3",
            "linecolor": "#A2B1C6",
            "ticks": ""
           }
          },
          "title": {
           "font": {
            "color": "rgb(42,72,108)",
            "family": "Arial Black",
            "size": 14
           },
           "x": 0.05
          },
          "xaxis": {
           "automargin": true,
           "gridcolor": "#EBF0F8",
           "linecolor": "#EBF0F8",
           "tickfont": {
            "color": "rgb(42,72,108)",
            "family": "Arial Black, monospace",
            "size": 9
           },
           "ticks": "",
           "title": {
            "font": {
             "color": "rgb(42,72,108)",
             "family": "Arial Black, monospace",
             "size": 11
            },
            "standoff": 15
           },
           "zerolinecolor": "#EBF0F8",
           "zerolinewidth": 2
          },
          "yaxis": {
           "automargin": true,
           "gridcolor": "#EBF0F8",
           "linecolor": "#EBF0F8",
           "range": [
            0,
            1
           ],
           "ticks": "",
           "title": {
            "font": {
             "color": "rgb(42,72,108)",
             "family": "Arial Black, monospace",
             "size": 11
            },
            "standoff": 15
           },
           "zerolinecolor": "#EBF0F8",
           "zerolinewidth": 2
          }
         }
        },
        "title": {
         "text": "Default Rate by Annual Income"
        },
        "uniformtext": {
         "minsize": 8
        },
        "width": 600,
        "xaxis": {
         "anchor": "y",
         "categoryarray": [
          "$0 - $30k",
          "$30k - $60k",
          "$60k - $90k",
          "$90k - $120k",
          ">$120k"
         ],
         "categoryorder": "array",
         "domain": [
          0,
          1
         ],
         "title": {
          "text": "Income"
         }
        },
        "yaxis": {
         "anchor": "x",
         "domain": [
          0,
          1
         ],
         "range": [
          0,
          0.3
         ],
         "tickformat": ".0%",
         "title": {
          "text": "Default Rate [%]"
         }
        }
       }
      }
     },
     "metadata": {},
     "output_type": "display_data"
    }
   ],
   "source": [
    "bins = [0, 30000, 60000, 90000, 120000, float('inf')]\n",
    "labels = ['$0 - $30k', '$30k - $60k', '$60k - $90k', '$90k - $120k', '>$120k']\n",
    "\n",
    "\n",
    "income_default_rate_df = pd.DataFrame()\n",
    "income_default_rate_df['income_range'] = pd.cut(loans_df['annual_inc'], bins=bins, labels=labels)\n",
    "income_default_rate_df['risky'] = loans_df['risky']\n",
    "income_default_rate_df['grade'] = loans_df['grade']\n",
    "\n",
    "income_default_rate_df = income_default_rate_df.groupby(['income_range', 'risky']).size().reset_index(name='count')\n",
    "\n",
    "income_default_rate_df = income_default_rate_df.pivot_table(\n",
    "    index='income_range',\n",
    "    columns='risky',\n",
    "    values='count',\n",
    "    aggfunc='sum',\n",
    "    fill_value=0\n",
    "    )\n",
    "\n",
    "fig = default_rate_bar_plot(\n",
    "                    df=income_default_rate_df,\n",
    "                    xlabel='Income',\n",
    "                    title='Default Rate by Annual Income',\n",
    "                    yaxis_range=[0, 0.3]\n",
    "                    )\n",
    "fig.write_image(\"images/default_by_income.png\")\n",
    "fig.show()"
   ]
  },
  {
   "cell_type": "markdown",
   "metadata": {},
   "source": [
    "### 4.3 Default Rate by Interest Rate"
   ]
  },
  {
   "cell_type": "code",
   "execution_count": null,
   "metadata": {},
   "outputs": [
    {
     "name": "stderr",
     "output_type": "stream",
     "text": [
      "C:\\Users\\rafae\\AppData\\Local\\Temp\\ipykernel_26088\\180471551.py:9: FutureWarning:\n",
      "\n",
      "The default of observed=False is deprecated and will be changed to True in a future version of pandas. Pass observed=False to retain current behavior or observed=True to adopt the future default and silence this warning.\n",
      "\n"
     ]
    },
    {
     "data": {
      "application/vnd.plotly.v1+json": {
       "config": {
        "plotlyServerURL": "https://plot.ly"
       },
       "data": [
        {
         "alignmentgroup": "True",
         "hovertemplate": "Interest=%{x}<br>Default Rate [%]=%{text}<extra></extra>",
         "legendgroup": "5% - 10%",
         "marker": {
          "color": "rgb(3, 5, 18)",
          "pattern": {
           "shape": ""
          }
         },
         "name": "5% - 10%",
         "offsetgroup": "5% - 10%",
         "orientation": "v",
         "showlegend": true,
         "text": [
          0.04720127989292399
         ],
         "textposition": "outside",
         "texttemplate": "%{text:.0%}",
         "type": "bar",
         "width": 0.6,
         "x": [
          "5% - 10%"
         ],
         "xaxis": "x",
         "y": [
          0.04720127989292399
         ],
         "yaxis": "y"
        },
        {
         "alignmentgroup": "True",
         "hovertemplate": "Interest=%{x}<br>Default Rate [%]=%{text}<extra></extra>",
         "legendgroup": "10% - 15%",
         "marker": {
          "color": "rgb(25, 25, 51)",
          "pattern": {
           "shape": ""
          }
         },
         "name": "10% - 15%",
         "offsetgroup": "10% - 15%",
         "orientation": "v",
         "showlegend": true,
         "text": [
          0.10479177782986172
         ],
         "textposition": "outside",
         "texttemplate": "%{text:.0%}",
         "type": "bar",
         "width": 0.6,
         "x": [
          "10% - 15%"
         ],
         "xaxis": "x",
         "y": [
          0.10479177782986172
         ],
         "yaxis": "y"
        },
        {
         "alignmentgroup": "True",
         "hovertemplate": "Interest=%{x}<br>Default Rate [%]=%{text}<extra></extra>",
         "legendgroup": "15% - 20%",
         "marker": {
          "color": "rgb(44, 42, 87)",
          "pattern": {
           "shape": ""
          }
         },
         "name": "15% - 20%",
         "offsetgroup": "15% - 20%",
         "orientation": "v",
         "showlegend": true,
         "text": [
          0.1708833487226839
         ],
         "textposition": "outside",
         "texttemplate": "%{text:.0%}",
         "type": "bar",
         "width": 0.6,
         "x": [
          "15% - 20%"
         ],
         "xaxis": "x",
         "y": [
          0.1708833487226839
         ],
         "yaxis": "y"
        },
        {
         "alignmentgroup": "True",
         "hovertemplate": "Interest=%{x}<br>Default Rate [%]=%{text}<extra></extra>",
         "legendgroup": "20% - 25%",
         "marker": {
          "color": "rgb(58, 60, 125)",
          "pattern": {
           "shape": ""
          }
         },
         "name": "20% - 25%",
         "offsetgroup": "20% - 25%",
         "orientation": "v",
         "showlegend": true,
         "text": [
          0.23539765495951692
         ],
         "textposition": "outside",
         "texttemplate": "%{text:.0%}",
         "type": "bar",
         "width": 0.6,
         "x": [
          "20% - 25%"
         ],
         "xaxis": "x",
         "y": [
          0.23539765495951692
         ],
         "yaxis": "y"
        },
        {
         "alignmentgroup": "True",
         "hovertemplate": "Interest=%{x}<br>Default Rate [%]=%{text}<extra></extra>",
         "legendgroup": ">25%",
         "marker": {
          "color": "rgb(62, 83, 160)",
          "pattern": {
           "shape": ""
          }
         },
         "name": ">25%",
         "offsetgroup": ">25%",
         "orientation": "v",
         "showlegend": true,
         "text": [
          0.2756806930693069
         ],
         "textposition": "outside",
         "texttemplate": "%{text:.0%}",
         "type": "bar",
         "width": 0.6,
         "x": [
          ">25%"
         ],
         "xaxis": "x",
         "y": [
          0.2756806930693069
         ],
         "yaxis": "y"
        }
       ],
       "layout": {
        "barmode": "relative",
        "coloraxis": {
         "showscale": false
        },
        "height": 400,
        "legend": {
         "title": {
          "text": "Interest"
         },
         "tracegroupgap": 0
        },
        "showlegend": false,
        "template": {
         "layout": {
          "annotationdefaults": {
           "arrowcolor": "#2a3f5f",
           "arrowhead": 0,
           "arrowwidth": 1
          },
          "autotypenumbers": "strict",
          "coloraxis": {
           "colorbar": {
            "outlinewidth": 0,
            "ticks": ""
           }
          },
          "colorscale": {
           "diverging": [
            [
             0,
             "#8e0152"
            ],
            [
             0.1,
             "#c51b7d"
            ],
            [
             0.2,
             "#de77ae"
            ],
            [
             0.3,
             "#f1b6da"
            ],
            [
             0.4,
             "#fde0ef"
            ],
            [
             0.5,
             "#f7f7f7"
            ],
            [
             0.6,
             "#e6f5d0"
            ],
            [
             0.7,
             "#b8e186"
            ],
            [
             0.8,
             "#7fbc41"
            ],
            [
             0.9,
             "#4d9221"
            ],
            [
             1,
             "#276419"
            ]
           ],
           "sequential": [
            [
             0,
             "#0d0887"
            ],
            [
             0.1111111111111111,
             "#46039f"
            ],
            [
             0.2222222222222222,
             "#7201a8"
            ],
            [
             0.3333333333333333,
             "#9c179e"
            ],
            [
             0.4444444444444444,
             "#bd3786"
            ],
            [
             0.5555555555555556,
             "#d8576b"
            ],
            [
             0.6666666666666666,
             "#ed7953"
            ],
            [
             0.7777777777777778,
             "#fb9f3a"
            ],
            [
             0.8888888888888888,
             "#fdca26"
            ],
            [
             1,
             "#f0f921"
            ]
           ],
           "sequentialminus": [
            [
             0,
             "#0d0887"
            ],
            [
             0.1111111111111111,
             "#46039f"
            ],
            [
             0.2222222222222222,
             "#7201a8"
            ],
            [
             0.3333333333333333,
             "#9c179e"
            ],
            [
             0.4444444444444444,
             "#bd3786"
            ],
            [
             0.5555555555555556,
             "#d8576b"
            ],
            [
             0.6666666666666666,
             "#ed7953"
            ],
            [
             0.7777777777777778,
             "#fb9f3a"
            ],
            [
             0.8888888888888888,
             "#fdca26"
            ],
            [
             1,
             "#f0f921"
            ]
           ]
          },
          "colorway": [
           "rgb(3, 5, 18)",
           "rgb(25, 25, 51)",
           "rgb(44, 42, 87)",
           "rgb(58, 60, 125)",
           "rgb(62, 83, 160)",
           "rgb(62, 109, 178)",
           "rgb(72, 134, 187)",
           "rgb(89, 159, 196)",
           "rgb(114, 184, 205)",
           "rgb(149, 207, 216)",
           "rgb(192, 229, 232)",
           "rgb(234, 252, 253)"
          ],
          "font": {
           "color": "#2a3f5f"
          },
          "geo": {
           "bgcolor": "white",
           "lakecolor": "white",
           "landcolor": "white",
           "showlakes": true,
           "showland": true,
           "subunitcolor": "#C8D4E3"
          },
          "hoverlabel": {
           "align": "left"
          },
          "hovermode": "closest",
          "mapbox": {
           "style": "light"
          },
          "margin": {
           "b": 10,
           "l": 10,
           "r": 10,
           "t": 80
          },
          "paper_bgcolor": "white",
          "plot_bgcolor": "rgb(243,250,253)",
          "polar": {
           "angularaxis": {
            "gridcolor": "#EBF0F8",
            "linecolor": "#EBF0F8",
            "ticks": ""
           },
           "bgcolor": "white",
           "radialaxis": {
            "gridcolor": "#EBF0F8",
            "linecolor": "#EBF0F8",
            "ticks": ""
           }
          },
          "scene": {
           "xaxis": {
            "backgroundcolor": "white",
            "gridcolor": "#DFE8F3",
            "gridwidth": 2,
            "linecolor": "#EBF0F8",
            "showbackground": true,
            "ticks": "",
            "zerolinecolor": "#EBF0F8"
           },
           "yaxis": {
            "backgroundcolor": "white",
            "gridcolor": "#DFE8F3",
            "gridwidth": 2,
            "linecolor": "#EBF0F8",
            "showbackground": true,
            "ticks": "",
            "zerolinecolor": "#EBF0F8"
           },
           "zaxis": {
            "backgroundcolor": "white",
            "gridcolor": "#DFE8F3",
            "gridwidth": 2,
            "linecolor": "#EBF0F8",
            "showbackground": true,
            "ticks": "",
            "zerolinecolor": "#EBF0F8"
           }
          },
          "shapedefaults": {
           "line": {
            "color": "#2a3f5f"
           }
          },
          "ternary": {
           "aaxis": {
            "gridcolor": "#DFE8F3",
            "linecolor": "#A2B1C6",
            "ticks": ""
           },
           "baxis": {
            "gridcolor": "#DFE8F3",
            "linecolor": "#A2B1C6",
            "ticks": ""
           },
           "bgcolor": "white",
           "caxis": {
            "gridcolor": "#DFE8F3",
            "linecolor": "#A2B1C6",
            "ticks": ""
           }
          },
          "title": {
           "font": {
            "color": "rgb(42,72,108)",
            "family": "Arial Black",
            "size": 14
           },
           "x": 0.05
          },
          "xaxis": {
           "automargin": true,
           "gridcolor": "#EBF0F8",
           "linecolor": "#EBF0F8",
           "tickfont": {
            "color": "rgb(42,72,108)",
            "family": "Arial Black, monospace",
            "size": 9
           },
           "ticks": "",
           "title": {
            "font": {
             "color": "rgb(42,72,108)",
             "family": "Arial Black, monospace",
             "size": 11
            },
            "standoff": 15
           },
           "zerolinecolor": "#EBF0F8",
           "zerolinewidth": 2
          },
          "yaxis": {
           "automargin": true,
           "gridcolor": "#EBF0F8",
           "linecolor": "#EBF0F8",
           "range": [
            0,
            1
           ],
           "ticks": "",
           "title": {
            "font": {
             "color": "rgb(42,72,108)",
             "family": "Arial Black, monospace",
             "size": 11
            },
            "standoff": 15
           },
           "zerolinecolor": "#EBF0F8",
           "zerolinewidth": 2
          }
         }
        },
        "title": {
         "text": "Default Rate by Interest"
        },
        "uniformtext": {
         "minsize": 8
        },
        "width": 600,
        "xaxis": {
         "anchor": "y",
         "categoryarray": [
          "5% - 10%",
          "10% - 15%",
          "15% - 20%",
          "20% - 25%",
          ">25%"
         ],
         "categoryorder": "array",
         "domain": [
          0,
          1
         ],
         "title": {
          "text": "Interest"
         }
        },
        "yaxis": {
         "anchor": "x",
         "domain": [
          0,
          1
         ],
         "range": [
          0,
          0.3
         ],
         "tickformat": ".0%",
         "title": {
          "text": "Default Rate [%]"
         }
        }
       }
      }
     },
     "metadata": {},
     "output_type": "display_data"
    }
   ],
   "source": [
    "interest_bins = [5, 10, 15, 20, 25, float('inf')]\n",
    "interest_labels = ['5% - 10%', '10% - 15%', '15% - 20%', '20% - 25%', '>25%']\n",
    "\n",
    "int_default_rate_df = pd.DataFrame()\n",
    "int_default_rate_df['int_range'] = pd.cut(loans_df['int_rate'], bins=interest_bins, labels=interest_labels)\n",
    "int_default_rate_df['risky'] = loans_df['risky']\n",
    "int_default_rate_df['grade'] = loans_df['grade']\n",
    "\n",
    "int_default_rate_df = int_default_rate_df.groupby(['int_range', 'risky']).size().reset_index(name='count')\n",
    "\n",
    "int_default_rate_df = int_default_rate_df.pivot_table(\n",
    "    index='int_range',\n",
    "    columns='risky',\n",
    "    values='count',\n",
    "    aggfunc='sum',\n",
    "    fill_value=0\n",
    "    )\n",
    "\n",
    "fig=default_rate_bar_plot(int_default_rate_df,\n",
    "                    xlabel='Interest',\n",
    "                    title='Default Rate by Interest',\n",
    "                    yaxis_range=[0,0.3]\n",
    "                    )\n",
    "fig.write_image(\"images/default_by_interest.png\")\n",
    "fig.show()"
   ]
  },
  {
   "cell_type": "markdown",
   "metadata": {},
   "source": [
    "### 4.4 Default Rate by DTI"
   ]
  },
  {
   "cell_type": "code",
   "execution_count": null,
   "metadata": {},
   "outputs": [
    {
     "name": "stderr",
     "output_type": "stream",
     "text": [
      "C:\\Users\\rafae\\AppData\\Local\\Temp\\ipykernel_26088\\3160568533.py:9: FutureWarning:\n",
      "\n",
      "The default of observed=False is deprecated and will be changed to True in a future version of pandas. Pass observed=False to retain current behavior or observed=True to adopt the future default and silence this warning.\n",
      "\n"
     ]
    },
    {
     "data": {
      "application/vnd.plotly.v1+json": {
       "config": {
        "plotlyServerURL": "https://plot.ly"
       },
       "data": [
        {
         "alignmentgroup": "True",
         "hovertemplate": "DTI=%{x}<br>Default Rate [%]=%{text}<extra></extra>",
         "legendgroup": "0% - 5%",
         "marker": {
          "color": "rgb(3, 5, 18)",
          "pattern": {
           "shape": ""
          }
         },
         "name": "0% - 5%",
         "offsetgroup": "0% - 5%",
         "orientation": "v",
         "showlegend": true,
         "text": [
          0.10672693216059939
         ],
         "textposition": "outside",
         "texttemplate": "%{text:.0%}",
         "type": "bar",
         "width": 0.6,
         "x": [
          "0% - 5%"
         ],
         "xaxis": "x",
         "y": [
          0.10672693216059939
         ],
         "yaxis": "y"
        },
        {
         "alignmentgroup": "True",
         "hovertemplate": "DTI=%{x}<br>Default Rate [%]=%{text}<extra></extra>",
         "legendgroup": "5% - 10%",
         "marker": {
          "color": "rgb(25, 25, 51)",
          "pattern": {
           "shape": ""
          }
         },
         "name": "5% - 10%",
         "offsetgroup": "5% - 10%",
         "orientation": "v",
         "showlegend": true,
         "text": [
          0.1016608102832087
         ],
         "textposition": "outside",
         "texttemplate": "%{text:.0%}",
         "type": "bar",
         "width": 0.6,
         "x": [
          "5% - 10%"
         ],
         "xaxis": "x",
         "y": [
          0.1016608102832087
         ],
         "yaxis": "y"
        },
        {
         "alignmentgroup": "True",
         "hovertemplate": "DTI=%{x}<br>Default Rate [%]=%{text}<extra></extra>",
         "legendgroup": "10% - 15%",
         "marker": {
          "color": "rgb(44, 42, 87)",
          "pattern": {
           "shape": ""
          }
         },
         "name": "10% - 15%",
         "offsetgroup": "10% - 15%",
         "orientation": "v",
         "showlegend": true,
         "text": [
          0.10927835051546392
         ],
         "textposition": "outside",
         "texttemplate": "%{text:.0%}",
         "type": "bar",
         "width": 0.6,
         "x": [
          "10% - 15%"
         ],
         "xaxis": "x",
         "y": [
          0.10927835051546392
         ],
         "yaxis": "y"
        },
        {
         "alignmentgroup": "True",
         "hovertemplate": "DTI=%{x}<br>Default Rate [%]=%{text}<extra></extra>",
         "legendgroup": "15% - 20%",
         "marker": {
          "color": "rgb(58, 60, 125)",
          "pattern": {
           "shape": ""
          }
         },
         "name": "15% - 20%",
         "offsetgroup": "15% - 20%",
         "orientation": "v",
         "showlegend": true,
         "text": [
          0.12286570097608451
         ],
         "textposition": "outside",
         "texttemplate": "%{text:.0%}",
         "type": "bar",
         "width": 0.6,
         "x": [
          "15% - 20%"
         ],
         "xaxis": "x",
         "y": [
          0.12286570097608451
         ],
         "yaxis": "y"
        },
        {
         "alignmentgroup": "True",
         "hovertemplate": "DTI=%{x}<br>Default Rate [%]=%{text}<extra></extra>",
         "legendgroup": "20% - 25%",
         "marker": {
          "color": "rgb(62, 83, 160)",
          "pattern": {
           "shape": ""
          }
         },
         "name": "20% - 25%",
         "offsetgroup": "20% - 25%",
         "orientation": "v",
         "showlegend": true,
         "text": [
          0.13889952763947402
         ],
         "textposition": "outside",
         "texttemplate": "%{text:.0%}",
         "type": "bar",
         "width": 0.6,
         "x": [
          "20% - 25%"
         ],
         "xaxis": "x",
         "y": [
          0.13889952763947402
         ],
         "yaxis": "y"
        },
        {
         "alignmentgroup": "True",
         "hovertemplate": "DTI=%{x}<br>Default Rate [%]=%{text}<extra></extra>",
         "legendgroup": "25% - 30%",
         "marker": {
          "color": "rgb(62, 109, 178)",
          "pattern": {
           "shape": ""
          }
         },
         "name": "25% - 30%",
         "offsetgroup": "25% - 30%",
         "orientation": "v",
         "showlegend": true,
         "text": [
          0.1446947143739819
         ],
         "textposition": "outside",
         "texttemplate": "%{text:.0%}",
         "type": "bar",
         "width": 0.6,
         "x": [
          "25% - 30%"
         ],
         "xaxis": "x",
         "y": [
          0.1446947143739819
         ],
         "yaxis": "y"
        },
        {
         "alignmentgroup": "True",
         "hovertemplate": "DTI=%{x}<br>Default Rate [%]=%{text}<extra></extra>",
         "legendgroup": ">30%",
         "marker": {
          "color": "rgb(72, 134, 187)",
          "pattern": {
           "shape": ""
          }
         },
         "name": ">30%",
         "offsetgroup": ">30%",
         "orientation": "v",
         "showlegend": true,
         "text": [
          0.14566816655953146
         ],
         "textposition": "outside",
         "texttemplate": "%{text:.0%}",
         "type": "bar",
         "width": 0.6,
         "x": [
          ">30%"
         ],
         "xaxis": "x",
         "y": [
          0.14566816655953146
         ],
         "yaxis": "y"
        }
       ],
       "layout": {
        "barmode": "relative",
        "coloraxis": {
         "showscale": false
        },
        "height": 400,
        "legend": {
         "title": {
          "text": "DTI"
         },
         "tracegroupgap": 0
        },
        "showlegend": false,
        "template": {
         "layout": {
          "annotationdefaults": {
           "arrowcolor": "#2a3f5f",
           "arrowhead": 0,
           "arrowwidth": 1
          },
          "autotypenumbers": "strict",
          "coloraxis": {
           "colorbar": {
            "outlinewidth": 0,
            "ticks": ""
           }
          },
          "colorscale": {
           "diverging": [
            [
             0,
             "#8e0152"
            ],
            [
             0.1,
             "#c51b7d"
            ],
            [
             0.2,
             "#de77ae"
            ],
            [
             0.3,
             "#f1b6da"
            ],
            [
             0.4,
             "#fde0ef"
            ],
            [
             0.5,
             "#f7f7f7"
            ],
            [
             0.6,
             "#e6f5d0"
            ],
            [
             0.7,
             "#b8e186"
            ],
            [
             0.8,
             "#7fbc41"
            ],
            [
             0.9,
             "#4d9221"
            ],
            [
             1,
             "#276419"
            ]
           ],
           "sequential": [
            [
             0,
             "#0d0887"
            ],
            [
             0.1111111111111111,
             "#46039f"
            ],
            [
             0.2222222222222222,
             "#7201a8"
            ],
            [
             0.3333333333333333,
             "#9c179e"
            ],
            [
             0.4444444444444444,
             "#bd3786"
            ],
            [
             0.5555555555555556,
             "#d8576b"
            ],
            [
             0.6666666666666666,
             "#ed7953"
            ],
            [
             0.7777777777777778,
             "#fb9f3a"
            ],
            [
             0.8888888888888888,
             "#fdca26"
            ],
            [
             1,
             "#f0f921"
            ]
           ],
           "sequentialminus": [
            [
             0,
             "#0d0887"
            ],
            [
             0.1111111111111111,
             "#46039f"
            ],
            [
             0.2222222222222222,
             "#7201a8"
            ],
            [
             0.3333333333333333,
             "#9c179e"
            ],
            [
             0.4444444444444444,
             "#bd3786"
            ],
            [
             0.5555555555555556,
             "#d8576b"
            ],
            [
             0.6666666666666666,
             "#ed7953"
            ],
            [
             0.7777777777777778,
             "#fb9f3a"
            ],
            [
             0.8888888888888888,
             "#fdca26"
            ],
            [
             1,
             "#f0f921"
            ]
           ]
          },
          "colorway": [
           "rgb(3, 5, 18)",
           "rgb(25, 25, 51)",
           "rgb(44, 42, 87)",
           "rgb(58, 60, 125)",
           "rgb(62, 83, 160)",
           "rgb(62, 109, 178)",
           "rgb(72, 134, 187)",
           "rgb(89, 159, 196)",
           "rgb(114, 184, 205)",
           "rgb(149, 207, 216)",
           "rgb(192, 229, 232)",
           "rgb(234, 252, 253)"
          ],
          "font": {
           "color": "#2a3f5f"
          },
          "geo": {
           "bgcolor": "white",
           "lakecolor": "white",
           "landcolor": "white",
           "showlakes": true,
           "showland": true,
           "subunitcolor": "#C8D4E3"
          },
          "hoverlabel": {
           "align": "left"
          },
          "hovermode": "closest",
          "mapbox": {
           "style": "light"
          },
          "margin": {
           "b": 10,
           "l": 10,
           "r": 10,
           "t": 80
          },
          "paper_bgcolor": "white",
          "plot_bgcolor": "rgb(243,250,253)",
          "polar": {
           "angularaxis": {
            "gridcolor": "#EBF0F8",
            "linecolor": "#EBF0F8",
            "ticks": ""
           },
           "bgcolor": "white",
           "radialaxis": {
            "gridcolor": "#EBF0F8",
            "linecolor": "#EBF0F8",
            "ticks": ""
           }
          },
          "scene": {
           "xaxis": {
            "backgroundcolor": "white",
            "gridcolor": "#DFE8F3",
            "gridwidth": 2,
            "linecolor": "#EBF0F8",
            "showbackground": true,
            "ticks": "",
            "zerolinecolor": "#EBF0F8"
           },
           "yaxis": {
            "backgroundcolor": "white",
            "gridcolor": "#DFE8F3",
            "gridwidth": 2,
            "linecolor": "#EBF0F8",
            "showbackground": true,
            "ticks": "",
            "zerolinecolor": "#EBF0F8"
           },
           "zaxis": {
            "backgroundcolor": "white",
            "gridcolor": "#DFE8F3",
            "gridwidth": 2,
            "linecolor": "#EBF0F8",
            "showbackground": true,
            "ticks": "",
            "zerolinecolor": "#EBF0F8"
           }
          },
          "shapedefaults": {
           "line": {
            "color": "#2a3f5f"
           }
          },
          "ternary": {
           "aaxis": {
            "gridcolor": "#DFE8F3",
            "linecolor": "#A2B1C6",
            "ticks": ""
           },
           "baxis": {
            "gridcolor": "#DFE8F3",
            "linecolor": "#A2B1C6",
            "ticks": ""
           },
           "bgcolor": "white",
           "caxis": {
            "gridcolor": "#DFE8F3",
            "linecolor": "#A2B1C6",
            "ticks": ""
           }
          },
          "title": {
           "font": {
            "color": "rgb(42,72,108)",
            "family": "Arial Black",
            "size": 14
           },
           "x": 0.05
          },
          "xaxis": {
           "automargin": true,
           "gridcolor": "#EBF0F8",
           "linecolor": "#EBF0F8",
           "tickfont": {
            "color": "rgb(42,72,108)",
            "family": "Arial Black, monospace",
            "size": 9
           },
           "ticks": "",
           "title": {
            "font": {
             "color": "rgb(42,72,108)",
             "family": "Arial Black, monospace",
             "size": 11
            },
            "standoff": 15
           },
           "zerolinecolor": "#EBF0F8",
           "zerolinewidth": 2
          },
          "yaxis": {
           "automargin": true,
           "gridcolor": "#EBF0F8",
           "linecolor": "#EBF0F8",
           "range": [
            0,
            1
           ],
           "ticks": "",
           "title": {
            "font": {
             "color": "rgb(42,72,108)",
             "family": "Arial Black, monospace",
             "size": 11
            },
            "standoff": 15
           },
           "zerolinecolor": "#EBF0F8",
           "zerolinewidth": 2
          }
         }
        },
        "title": {
         "text": "Default Rate by Debt To Income Ratio"
        },
        "uniformtext": {
         "minsize": 8
        },
        "width": 600,
        "xaxis": {
         "anchor": "y",
         "categoryarray": [
          "0% - 5%",
          "5% - 10%",
          "10% - 15%",
          "15% - 20%",
          "20% - 25%",
          "25% - 30%",
          ">30%"
         ],
         "categoryorder": "array",
         "domain": [
          0,
          1
         ],
         "title": {
          "text": "DTI"
         }
        },
        "yaxis": {
         "anchor": "x",
         "domain": [
          0,
          1
         ],
         "range": [
          0,
          0.2
         ],
         "tickformat": ".0%",
         "title": {
          "text": "Default Rate [%]"
         }
        }
       }
      }
     },
     "metadata": {},
     "output_type": "display_data"
    }
   ],
   "source": [
    "dti_bins = [0, 5, 10, 15, 20, 25, 30, float('inf')]\n",
    "dti_labels = ['0% - 5%', '5% - 10%', '10% - 15%','15% - 20%', '20% - 25%', '25% - 30%',  '>30%']\n",
    "\n",
    "dti_default_rate_df = pd.DataFrame()\n",
    "dti_default_rate_df['dti_range'] = pd.cut(loans_df['dti'], bins=dti_bins, labels=dti_labels)\n",
    "dti_default_rate_df['risky'] = loans_df['risky']\n",
    "dti_default_rate_df['grade'] = loans_df['grade']\n",
    "\n",
    "dti_default_rate_df = dti_default_rate_df.groupby(['dti_range', 'risky']).size().reset_index(name='count')\n",
    "\n",
    "dti_default_rate_df = dti_default_rate_df.pivot_table(\n",
    "    index='dti_range',\n",
    "    columns='risky',\n",
    "    values='count',\n",
    "    aggfunc='sum',\n",
    "    fill_value=0\n",
    "    )\n",
    "\n",
    "fig = default_rate_bar_plot(\n",
    "    df=dti_default_rate_df,\n",
    "    xlabel='DTI',\n",
    "    title='Default Rate by Debt To Income Ratio',\n",
    "    yaxis_range=[0,0.2]\n",
    "    )\n",
    "fig.write_image(\"images/deafults_by_dti.png\")\n",
    "fig.show()"
   ]
  },
  {
   "cell_type": "markdown",
   "metadata": {},
   "source": [
    "## 5. Portfolio Analysis"
   ]
  },
  {
   "cell_type": "code",
   "execution_count": null,
   "metadata": {},
   "outputs": [],
   "source": [
    "portfolio = pd.Series()\n",
    "\n",
    "current_portfolio = loans_df[~loans_df['loan_status'].isin([\n",
    "    'Fully Paid', \n",
    "    'Default', \n",
    "    'Charged Off',\n",
    "    'Does not meet the credit policy. Status:Fully Paid',\n",
    "    'Does not meet the credit policy. Status:Charged Off'\n",
    "    ])]\n",
    "\n",
    "defaulted_loans = loans_df[loans_df['loan_status'].isin([\n",
    "    'Charged Off', \n",
    "    'Does not meet the credit policy. Status:Charged Off', \n",
    "    'Default', \n",
    "    'Late (31-120 days)'\n",
    "    ])]"
   ]
  },
  {
   "cell_type": "markdown",
   "metadata": {},
   "source": [
    "### 5.1 Portfolio Risk Evolution"
   ]
  },
  {
   "cell_type": "code",
   "execution_count": null,
   "metadata": {},
   "outputs": [],
   "source": [
    "pull_d_year_ct = pd.crosstab(loans_df['last_credit_pull_d_year'], loans_df['risky'])\n",
    "pull_d_year_sum = pull_d_year_ct.sum(axis=1).astype(float)\n",
    "pull_d_year_rate = pull_d_year_ct.div(pull_d_year_sum, axis=0)\n",
    "pull_d_year_rate.index = np.arange(2007, 2017)\n",
    "\n",
    "prime_default_rate = pull_d_year_rate[1]\n",
    "subprime_default_rate = pull_d_year_rate[0]\n",
    "\n",
    "# Create figure\n",
    "fig = go.Figure()\n",
    "\n",
    "# Plot for Prime Borrowers\n",
    "fig.add_trace(go.Scatter(x=pull_d_year_rate.index, y=prime_default_rate,\n",
    "                         mode='lines+markers',\n",
    "                         name='Prime Loans',\n",
    "                         line=dict(color='rgb(4,217,57)', width=2),\n",
    "                         fillcolor='rgba(4, 217, 57, 0.5)',\n",
    "                         #fill='tozeroy',\n",
    "                         #marker=dict(symbol='diamond', size=8))\n",
    "                         ))\n",
    "\n",
    "# Plot for Subprime Borrowers\n",
    "fig.add_trace(go.Scatter(x=pull_d_year_rate.index, y=subprime_default_rate,\n",
    "                         name='Risky Loans',\n",
    "                         line=dict(color='rgb(255,72,88)', width=2),\n",
    "                         #fill='tozeroy',\n",
    "                         fillcolor = 'rgba(255,72,88,0.5)',\n",
    "                         #marker=dict(symbol='diamond', size=8)\n",
    "                         ))\n",
    "\n",
    "fig.add_shape(\n",
    "            type='rect',\n",
    "            x0=2009,\n",
    "            x1=2016,\n",
    "            y0=0,\n",
    "            y1=1,\n",
    "            fillcolor='skyblue',\n",
    "            opacity=0.1\n",
    "        )\n",
    "\n",
    "\n",
    "# Add percentage labels\n",
    "for x, y in zip(pull_d_year_rate.index, prime_default_rate.round(2)):\n",
    "    fig.add_annotation(x=x, y=y+0.05, text=f'{y*100:.2f}%', showarrow=False, \n",
    "                       font=dict(size=10, color='rgb(4,217,57)'),\n",
    "                       align='center', valign='bottom')\n",
    "\n",
    "for x, y in zip(pull_d_year_rate.index, subprime_default_rate.round(2)):\n",
    "    fig.add_annotation(x=x, y=y+0.05, text=f'{y*100:.2f}%', showarrow=False, font=dict(size=10, color='rgb(255,72,88)'),\n",
    "                       align='center', valign='bottom')\n",
    "\n",
    "\n",
    "## 2008 Crisis Decoration\n",
    "\n",
    "# Add legend for crisis period\n",
    "fig.add_annotation(\n",
    "            x=2008,\n",
    "            y=0.8,\n",
    "            xref='x',\n",
    "            yref='paper',\n",
    "            text = \"Housing<br>Crisis\",\n",
    "            ax=-40,\n",
    "            font = dict(size=12,color='rgba(255,51,51,0.8)'),\n",
    "            arrowcolor = 'rgba(255,51,51,.5)',\n",
    "            showarrow=True,\n",
    "            arrowhead=4,\n",
    "        )\n",
    "\n",
    "fig.add_shape(\n",
    "            type='rect',\n",
    "            x0=2007,\n",
    "            x1=2009,\n",
    "            y0=0,\n",
    "            y1=1,\n",
    "            fillcolor='red',\n",
    "            opacity=0.1\n",
    "        )\n",
    "fig.add_shape(\n",
    "            type='line',\n",
    "            x1=2009,\n",
    "            x0=2009,\n",
    "            y0=0,\n",
    "            y1=1,\n",
    "            line=dict(color='rgba(255,51,51,.5)'),\n",
    "        )\n",
    "\n",
    "\n",
    "# Update layout for aesthetics\n",
    "fig.update_layout(\n",
    "    title='Loans Risk Evolution Over Time',\n",
    "    xaxis_title='Year',\n",
    "    yaxis_title='Percentage [%]',\n",
    "    xaxis=dict(tickmode='array', tickvals=np.arange(2007, 2017, 1)),\n",
    "    legend=dict(\n",
    "        x=-0.008, y=1.12, \n",
    "        orientation='h',\n",
    "        traceorder='normal',\n",
    "        xanchor='left',\n",
    "        yanchor='top',\n",
    "        title=''\n",
    "    ),\n",
    "    width=800,\n",
    "    height=400,\n",
    "\n",
    ")\n",
    "\n",
    "fig.write_image(\"images/risk_evolution.png\")\n",
    "fig.show()\n"
   ]
  },
  {
   "cell_type": "markdown",
   "metadata": {},
   "source": [
    "### 5.2 Max Exposure\n",
    "\n",
    "The total amount of the loans still outstanding"
   ]
  },
  {
   "cell_type": "code",
   "execution_count": 157,
   "metadata": {},
   "outputs": [
    {
     "name": "stdout",
     "output_type": "stream",
     "text": [
      "Potfolio EAD: $204.76MM\n"
     ]
    }
   ],
   "source": [
    "EAD = current_portfolio['out_prncp'].sum() # TODO Include possible collaterals - current_portfolio[]\n",
    "portfolio['Exposure at Default'] = f'{(EAD/10e6):.2f}'\n",
    "print(f'Potfolio EAD: ${(EAD/10e6):.2f}MM')"
   ]
  },
  {
   "cell_type": "markdown",
   "metadata": {},
   "source": [
    "### 5.3 Probability of Default (PD)"
   ]
  },
  {
   "cell_type": "code",
   "execution_count": 143,
   "metadata": {},
   "outputs": [
    {
     "name": "stdout",
     "output_type": "stream",
     "text": [
      "Potfolio PD: 21.64%\n"
     ]
    }
   ],
   "source": [
    "PD = len(defaulted_loans) / len(current_portfolio)\n",
    "portfolio['Probability of Default'] = f'{(PD):.2%}'\n",
    "print(f'Potfolio PD: {(PD):.2%}')"
   ]
  },
  {
   "cell_type": "markdown",
   "metadata": {},
   "source": [
    "### 5.4 Default Recovery Rate\n",
    "\n",
    "In case of a default, how much of the principal can be recovered"
   ]
  },
  {
   "cell_type": "code",
   "execution_count": 144,
   "metadata": {},
   "outputs": [
    {
     "name": "stdout",
     "output_type": "stream",
     "text": [
      "Portfolio Recovert Rate 50.98%\n"
     ]
    }
   ],
   "source": [
    "recoveries_from_defaulted = defaulted_loans['recoveries'].sum()\n",
    "principal_from_defaulted = defaulted_loans['out_prncp'].sum()\n",
    "RR = recoveries_from_defaulted / principal_from_defaulted\n",
    "portfolio['Recovery Rate'] = f'{RR:.2%}'\n",
    "print(f'Portfolio Recovert Rate {RR:.2%}')"
   ]
  },
  {
   "cell_type": "markdown",
   "metadata": {},
   "source": [
    "### 5.5 Loss Given Default (LGD)\n",
    "\n",
    "Loss after recovery from defaults"
   ]
  },
  {
   "cell_type": "code",
   "execution_count": 145,
   "metadata": {},
   "outputs": [
    {
     "name": "stdout",
     "output_type": "stream",
     "text": [
      "Portfolio Loss Given Default: 49.02%\n"
     ]
    }
   ],
   "source": [
    "LGD_dollars = EAD * (1 - RR)\n",
    "LGD_pct = 1 - RR\n",
    "portfolio['Loss Given Default ($)'] = f'{(LGD_dollars/10e6):.2f}MM'\n",
    "portfolio['Loss Given Default'] = f'{LGD_pct:.2%}'\n",
    "print(f'Portfolio Loss Given Default: {LGD_pct:.2%}')"
   ]
  },
  {
   "cell_type": "markdown",
   "metadata": {},
   "source": [
    "### 5.6 Expected Loss\n",
    "\n",
    "The total amount is expected to be lost with defaults"
   ]
  },
  {
   "cell_type": "code",
   "execution_count": 146,
   "metadata": {},
   "outputs": [
    {
     "name": "stdout",
     "output_type": "stream",
     "text": [
      "Portfolio Expected Loss: 21.72MM\n"
     ]
    }
   ],
   "source": [
    "EL = EAD * PD * LGD_pct\n",
    "portfolio['Expected Loss'] = f'{(EL/10e6):.2f}MM'\n",
    "print(f'Portfolio Expected Loss: {(EL/10e6):.2f}MM')"
   ]
  },
  {
   "cell_type": "markdown",
   "metadata": {},
   "source": [
    "### 5.7 Other metrics"
   ]
  },
  {
   "cell_type": "code",
   "execution_count": 154,
   "metadata": {},
   "outputs": [],
   "source": [
    "# Weighted Average Interest Rate\n",
    "wai = ((current_portfolio['int_rate']/100) * current_portfolio['loan_amnt']).sum() / current_portfolio['loan_amnt'].sum()\n",
    "portfolio['Weighted Average Interest'] = f\"{wai:.2%}\"\n",
    "    \n",
    "# Portfolio Yield\n",
    "total_interest_received = current_portfolio['total_rec_int'].sum()\n",
    "portfolio['Portfolio Yield'] = f\"{(total_interest_received / current_portfolio['loan_amnt'].sum()):.2%}\"\n",
    "\n",
    "# Median DTI (current portfolio)\n",
    "portfolio['Median DTI'] = f\"{current_portfolio['dti'].median()}\"\n",
    "\n",
    "# Loan Status Distribution (entire dataset)\n",
    "#portfolio['Loan Status Distribution'] = loans_df['loan_status'].value_counts(normalize=True).to_dict()\n",
    "\n",
    "# Average Loan Amount (current portfolio)\n",
    "#summary['Average Loan Amount'] = current_portfolio['funded_amnt'].mean()\n",
    "\n",
    "# Concentration Risk (current portfolio)\n",
    "#summary['Grade Concentration'] = current_portfolio['grade'].value_counts(normalize=True).to_dict()\n",
    "#summary['Purpose Concentration'] = current_portfolio['purpose'].value_counts(normalize=True).to_dict()\n"
   ]
  },
  {
   "cell_type": "code",
   "execution_count": 155,
   "metadata": {},
   "outputs": [
    {
     "data": {
      "text/plain": [
       "Exposure at Default            204.76\n",
       "Probability of Default         21.64%\n",
       "Recovery Rate                  50.98%\n",
       "Loss Given Default ($)       100.37MM\n",
       "Loss Given Default             49.02%\n",
       "Expected Loss                 21.72MM\n",
       "Weighted Average Interest      14.18%\n",
       "Portfolio Yield                20.27%\n",
       "Median DTI                       17.7\n",
       "dtype: object"
      ]
     },
     "execution_count": 155,
     "metadata": {},
     "output_type": "execute_result"
    }
   ],
   "source": [
    "portfolio"
   ]
  }
 ],
 "metadata": {
  "kernelspec": {
   "display_name": "ML",
   "language": "python",
   "name": "python3"
  },
  "language_info": {
   "codemirror_mode": {
    "name": "ipython",
    "version": 3
   },
   "file_extension": ".py",
   "mimetype": "text/x-python",
   "name": "python",
   "nbconvert_exporter": "python",
   "pygments_lexer": "ipython3",
   "version": "3.11.7"
  }
 },
 "nbformat": 4,
 "nbformat_minor": 2
}
